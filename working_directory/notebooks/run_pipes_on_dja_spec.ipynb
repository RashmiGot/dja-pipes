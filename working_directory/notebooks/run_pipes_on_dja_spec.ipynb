{
 "cells": [
  {
   "cell_type": "code",
   "execution_count": null,
   "id": "b5ec6a74",
   "metadata": {},
   "outputs": [],
   "source": []
  },
  {
   "cell_type": "code",
   "execution_count": 1,
   "id": "964f41e6",
   "metadata": {},
   "outputs": [],
   "source": [
    "# defining catalogue to run\n",
    "\n",
    "from astropy.table import Table\n",
    "\n",
    "fnames = [\n",
    "\"rubies-egs61-v3_prism-clear_4233_42328\",\n",
    "\"rubies-uds32-v3_prism-clear_4233_133898\",\n",
    "\"rubies-uds1-v3_prism-clear_4233_27711\",\n",
    "\"rubies-egs52-v3_prism-clear_4233_24948\"\n",
    "]\n",
    "ids = []\n",
    "for fname in fnames:\n",
    "    ids.append(int(fname.split('_')[-1]))\n",
    "\n",
    "# catalogue of spectra from DJA\n",
    "speclist_cat = Table([ids, fnames], names=list(['id', 'fname']))\n",
    "speclist_cat.write('spec_cat_temp.fits', format='fits', overwrite=True)"
   ]
  },
  {
   "cell_type": "code",
   "execution_count": null,
   "id": "98074ab8",
   "metadata": {},
   "outputs": [
    {
     "name": "stdout",
     "output_type": "stream",
     "text": [
      "42328 rubies-egs61-v3_prism-clear_4233_42328\n",
      "\n",
      "Bagpipes: fitting object 42328\n",
      "\n",
      "\n",
      "Completed in 217.2 seconds.\n",
      "\n",
      "Parameter                          Posterior percentiles\n",
      "                                16th       50th       84th\n",
      "----------------------------------------------------------\n",
      "calib:0                        1.090      1.101      1.113\n",
      "calib:1                        0.132      0.148      0.164\n",
      "calib:2                       -0.024     -0.015     -0.005\n",
      "continuity:dsfr1               1.642      2.481      4.445\n",
      "continuity:dsfr2              -5.503     -2.894     -1.524\n",
      "continuity:dsfr3              -2.810     -1.004      0.072\n",
      "continuity:dsfr4              -2.080     -0.701      0.201\n",
      "continuity:dsfr5              -2.095     -0.560      0.420\n",
      "continuity:dsfr6              -1.661     -0.378      0.573\n",
      "continuity:dsfr7              -1.567     -0.303      0.644\n",
      "continuity:dsfr8              -1.437     -0.200      0.832\n",
      "continuity:massformed         10.595     10.603     10.612\n",
      "continuity:metallicity         1.956      2.096      2.227\n",
      "dust:Av                        0.268      0.311      0.353\n",
      "nebular:logU                  -3.511     -2.457     -1.470\n",
      "noise:scaling                  1.652      1.711      1.774\n",
      "redshift                       2.680      2.682      2.686\n",
      "\n",
      "\n"
     ]
    }
   ],
   "source": [
    "import djapipes\n",
    "\n",
    "djapipes.run.run_pipes_on_dja_spec(\"rubies-egs61-v3_prism-clear_4233_42328.spec.fits\")"
   ]
  },
  {
   "cell_type": "code",
   "execution_count": null,
   "id": "99f951c1",
   "metadata": {},
   "outputs": [],
   "source": []
  }
 ],
 "metadata": {
  "kernelspec": {
   "display_name": "pipesgitconda",
   "language": "python",
   "name": "python3"
  },
  "language_info": {
   "codemirror_mode": {
    "name": "ipython",
    "version": 3
   },
   "file_extension": ".py",
   "mimetype": "text/x-python",
   "name": "python",
   "nbconvert_exporter": "python",
   "pygments_lexer": "ipython3",
   "version": "3.10.14"
  }
 },
 "nbformat": 4,
 "nbformat_minor": 5
}
