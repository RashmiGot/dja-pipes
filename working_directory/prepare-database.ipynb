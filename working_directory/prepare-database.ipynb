{
 "cells": [
  {
   "cell_type": "markdown",
   "id": "49b1b449-137d-40c8-9c60-f7c92437a37e",
   "metadata": {},
   "source": [
    "# Initialize database tables"
   ]
  },
  {
   "cell_type": "markdown",
   "id": "6a6b8aab-2fd4-4dbd-8e07-bfdaeb3858e8",
   "metadata": {},
   "source": [
    "## Control table"
   ]
  },
  {
   "cell_type": "code",
   "execution_count": 38,
   "id": "c3d9a1fc-2087-48af-8ded-2e564bb954fd",
   "metadata": {},
   "outputs": [],
   "source": [
    "import os\n",
    "import numpy as np\n",
    "\n",
    "from grizli.aws import db\n",
    "from grizli import utils\n",
    "\n",
    "import djapipes"
   ]
  },
  {
   "cell_type": "code",
   "execution_count": 4,
   "id": "11c0bad6-699e-4feb-8d1b-d86dfcf0c626",
   "metadata": {},
   "outputs": [
    {
     "data": {
      "text/plain": [
       "\u001b[0;31mSignature:\u001b[0m\n",
       "\u001b[0mdjapipes\u001b[0m\u001b[0;34m.\u001b[0m\u001b[0mrun\u001b[0m\u001b[0;34m.\u001b[0m\u001b[0mrun_pipes_on_dja_spec\u001b[0m\u001b[0;34m(\u001b[0m\u001b[0;34m\u001b[0m\n",
       "\u001b[0;34m\u001b[0m    \u001b[0mspec_name\u001b[0m\u001b[0;34m,\u001b[0m\u001b[0;34m\u001b[0m\n",
       "\u001b[0;34m\u001b[0m    \u001b[0msfh\u001b[0m\u001b[0;34m=\u001b[0m\u001b[0;34m'continuity'\u001b[0m\u001b[0;34m,\u001b[0m\u001b[0;34m\u001b[0m\n",
       "\u001b[0;34m\u001b[0m    \u001b[0mn_age_bins\u001b[0m\u001b[0;34m=\u001b[0m\u001b[0;36m10\u001b[0m\u001b[0;34m,\u001b[0m\u001b[0;34m\u001b[0m\n",
       "\u001b[0;34m\u001b[0m    \u001b[0mscale_disp\u001b[0m\u001b[0;34m=\u001b[0m\u001b[0;36m1.3\u001b[0m\u001b[0;34m,\u001b[0m\u001b[0;34m\u001b[0m\n",
       "\u001b[0;34m\u001b[0m    \u001b[0mdust_type\u001b[0m\u001b[0;34m=\u001b[0m\u001b[0;34m'kriek'\u001b[0m\u001b[0;34m,\u001b[0m\u001b[0;34m\u001b[0m\n",
       "\u001b[0;34m\u001b[0m    \u001b[0muse_msa_resamp\u001b[0m\u001b[0;34m=\u001b[0m\u001b[0;32mFalse\u001b[0m\u001b[0;34m,\u001b[0m\u001b[0;34m\u001b[0m\n",
       "\u001b[0;34m\u001b[0m    \u001b[0mfit_agn\u001b[0m\u001b[0;34m=\u001b[0m\u001b[0;32mFalse\u001b[0m\u001b[0;34m,\u001b[0m\u001b[0;34m\u001b[0m\n",
       "\u001b[0;34m\u001b[0m    \u001b[0mfit_dla\u001b[0m\u001b[0;34m=\u001b[0m\u001b[0;32mFalse\u001b[0m\u001b[0;34m,\u001b[0m\u001b[0;34m\u001b[0m\n",
       "\u001b[0;34m\u001b[0m    \u001b[0mfit_mlpoly\u001b[0m\u001b[0;34m=\u001b[0m\u001b[0;32mFalse\u001b[0m\u001b[0;34m,\u001b[0m\u001b[0;34m\u001b[0m\n",
       "\u001b[0;34m\u001b[0m\u001b[0;34m)\u001b[0m\u001b[0;34m\u001b[0m\u001b[0;34m\u001b[0m\u001b[0m\n",
       "\u001b[0;31mDocstring:\u001b[0m\n",
       "Runs bagpipes on spectrum from DJA AWS database, saves posteriors as .h5 files and plots as .pdf files\n",
       "\n",
       "Parameters\n",
       "----------\n",
       "spec_name : DJA spectrum name, format=str\n",
       "\n",
       "Returns\n",
       "-------\n",
       "None\n",
       "\u001b[0;31mFile:\u001b[0m      ~/miniconda3/envs/py310-djapipes/lib/python3.10/site-packages/djapipes/run.py\n",
       "\u001b[0;31mType:\u001b[0m      function"
      ]
     },
     "metadata": {},
     "output_type": "display_data"
    }
   ],
   "source": [
    "djapipes.run.run_pipes_on_dja_spec?"
   ]
  },
  {
   "cell_type": "code",
   "execution_count": 31,
   "id": "75b7e72d-abd8-4e2f-994f-c3bbd7b88cf3",
   "metadata": {},
   "outputs": [
    {
     "data": {
      "text/html": [
       "<div><i>GTable length=1</i>\n",
       "<table id=\"table20877144560\" class=\"table-striped table-bordered table-condensed\">\n",
       "<thead><tr><th>file_spec</th><th>sfh</th><th>n_age_bins</th><th>scale_disp</th><th>dust_type</th><th>use_msa_resamp</th><th>fit_agn</th><th>fit_dla</th><th>fit_mlpoly</th><th>status</th><th>ctime</th></tr></thead>\n",
       "<thead><tr><th>str48</th><th>str10</th><th>int64</th><th>float64</th><th>str5</th><th>bool</th><th>bool</th><th>bool</th><th>bool</th><th>int64</th><th>float64</th></tr></thead>\n",
       "<tr><td>rubies-egs61-v3_prism-clear_4233_42328.spec.fits</td><td>continuity</td><td>10</td><td>1.3</td><td>kriek</td><td>False</td><td>False</td><td>False</td><td>False</td><td>70</td><td>1734393587.8455942</td></tr>\n",
       "</table></div>"
      ],
      "text/plain": [
       "<GTable length=1>\n",
       "                   file_spec                     ...       ctime       \n",
       "                     str48                       ...      float64      \n",
       "------------------------------------------------ ... ------------------\n",
       "rubies-egs61-v3_prism-clear_4233_42328.spec.fits ... 1734393587.8455942"
      ]
     },
     "execution_count": 31,
     "metadata": {},
     "output_type": "execute_result"
    }
   ],
   "source": [
    "import time\n",
    "row = dict(\n",
    "    file_spec = \"rubies-egs61-v3_prism-clear_4233_42328.spec.fits\",\n",
    "    sfh='continuity',\n",
    "    n_age_bins=10,\n",
    "    scale_disp=1.3,\n",
    "    dust_type='kriek',\n",
    "    use_msa_resamp=False,\n",
    "    fit_agn=False,\n",
    "    fit_dla=False,\n",
    "    fit_mlpoly=False,\n",
    "    status=70,\n",
    "    ctime=time.time(),\n",
    ")\n",
    "\n",
    "tab = utils.GTable([row])\n",
    "tab"
   ]
  },
  {
   "cell_type": "code",
   "execution_count": 33,
   "id": "559f4cc8-d1df-4a7b-a435-b541dfb1be09",
   "metadata": {},
   "outputs": [
    {
     "data": {
      "text/html": [
       "<div><i>GTable length=1</i>\n",
       "<table id=\"table20868963616\" class=\"table-striped table-bordered table-condensed\">\n",
       "<thead><tr><th>file_spec</th><th>sfh</th><th>n_age_bins</th><th>scale_disp</th><th>dust_type</th><th>use_msa_resamp</th><th>fit_agn</th><th>fit_dla</th><th>fit_mlpoly</th><th>status</th><th>ctime</th></tr></thead>\n",
       "<thead><tr><th>str48</th><th>str10</th><th>int64</th><th>float64</th><th>str5</th><th>bool</th><th>bool</th><th>bool</th><th>bool</th><th>int64</th><th>float64</th></tr></thead>\n",
       "<tr><td>rubies-egs61-v3_prism-clear_4233_42328.spec.fits</td><td>continuity</td><td>10</td><td>1.3</td><td>kriek</td><td>False</td><td>False</td><td>False</td><td>False</td><td>70</td><td>1734393587.8455942</td></tr>\n",
       "</table></div>"
      ],
      "text/plain": [
       "<GTable length=1>\n",
       "                   file_spec                     ...       ctime       \n",
       "                     str48                       ...      float64      \n",
       "------------------------------------------------ ... ------------------\n",
       "rubies-egs61-v3_prism-clear_4233_42328.spec.fits ... 1734393587.8455942"
      ]
     },
     "execution_count": 33,
     "metadata": {},
     "output_type": "execute_result"
    }
   ],
   "source": [
    "if (0):\n",
    "    # db.execute(\"DROP TABLE nirspec_bagpipes\")\n",
    "    db.send_to_database(\"nirspec_bagpipes\", tab, if_exists=\"replace\")\n",
    "    db.execute(\"CREATE INDEX on nirspec_bagpipes (file_spec)\")\n",
    "\n",
    "\n",
    "db.SQL(\"select * from nirspec_bagpipes\")"
   ]
  },
  {
   "cell_type": "markdown",
   "id": "2be32544-9457-4da4-9ad8-97947ff261fc",
   "metadata": {},
   "source": [
    "## Results table"
   ]
  },
  {
   "cell_type": "code",
   "execution_count": 45,
   "id": "7895bc8e-632d-42c0-931b-f27a69fd5ed6",
   "metadata": {},
   "outputs": [
    {
     "data": {
      "text/html": [
       "<div><i>GTable length=1</i>\n",
       "<table id=\"table20874154944\" class=\"table-striped table-bordered table-condensed\">\n",
       "<thead><tr><th>file_spec</th><th>file_phot</th><th>file_zout</th><th>id_phot</th><th>dr</th><th>filt_num</th><th>calib_0_16</th><th>calib_0_50</th><th>calib_0_84</th><th>calib_1_16</th><th>calib_1_50</th><th>calib_1_84</th><th>calib_2_16</th><th>calib_2_50</th><th>calib_2_84</th><th>continuity_dsfr1_16</th><th>continuity_dsfr1_50</th><th>continuity_dsfr1_84</th><th>continuity_dsfr2_16</th><th>continuity_dsfr2_50</th><th>continuity_dsfr2_84</th><th>continuity_dsfr3_16</th><th>continuity_dsfr3_50</th><th>continuity_dsfr3_84</th><th>continuity_dsfr4_16</th><th>continuity_dsfr4_50</th><th>continuity_dsfr4_84</th><th>continuity_dsfr5_16</th><th>continuity_dsfr5_50</th><th>continuity_dsfr5_84</th><th>continuity_dsfr6_16</th><th>continuity_dsfr6_50</th><th>continuity_dsfr6_84</th><th>continuity_dsfr7_16</th><th>continuity_dsfr7_50</th><th>continuity_dsfr7_84</th><th>continuity_dsfr8_16</th><th>continuity_dsfr8_50</th><th>continuity_dsfr8_84</th><th>continuity_massformed_16</th><th>continuity_massformed_50</th><th>continuity_massformed_84</th><th>continuity_metallicity_16</th><th>continuity_metallicity_50</th><th>continuity_metallicity_84</th><th>dust_Av_16</th><th>dust_Av_50</th><th>dust_Av_84</th><th>nebular_logU_16</th><th>nebular_logU_50</th><th>nebular_logU_84</th><th>noise_scaling_16</th><th>noise_scaling_50</th><th>noise_scaling_84</th><th>redshift_16</th><th>redshift_50</th><th>redshift_84</th><th>stellar_mass_16</th><th>stellar_mass_50</th><th>stellar_mass_84</th><th>formed_mass_16</th><th>formed_mass_50</th><th>formed_mass_84</th><th>sfr_16</th><th>sfr_50</th><th>sfr_84</th><th>ssfr_16</th><th>ssfr_50</th><th>ssfr_84</th><th>nsfr_16</th><th>nsfr_50</th><th>nsfr_84</th><th>mass_weighted_age_16</th><th>mass_weighted_age_50</th><th>mass_weighted_age_84</th><th>tform_16</th><th>tform_50</th><th>tform_84</th><th>tquench_16</th><th>tquench_50</th><th>tquench_84</th><th>mass_weighted_zmet_16</th><th>mass_weighted_zmet_50</th><th>mass_weighted_zmet_84</th><th>sfh_16</th><th>sfh_50</th><th>sfh_84</th><th>chisq_phot_16</th><th>chisq_phot_50</th><th>chisq_phot_84</th><th>restU_16</th><th>restU_50</th><th>restU_84</th><th>restV_16</th><th>restV_50</th><th>restV_84</th><th>restJ_16</th><th>restJ_50</th><th>restJ_84</th><th>sfh</th><th>dust_type</th></tr></thead>\n",
       "<thead><tr><th>str48</th><th>str36</th><th>str43</th><th>int64</th><th>float64</th><th>int64</th><th>float64</th><th>float64</th><th>float64</th><th>float64</th><th>float64</th><th>float64</th><th>float64</th><th>float64</th><th>float64</th><th>float64</th><th>float64</th><th>float64</th><th>float64</th><th>float64</th><th>float64</th><th>float64</th><th>float64</th><th>float64</th><th>float64</th><th>float64</th><th>float64</th><th>float64</th><th>float64</th><th>float64</th><th>float64</th><th>float64</th><th>float64</th><th>float64</th><th>float64</th><th>float64</th><th>float64</th><th>float64</th><th>float64</th><th>float64</th><th>float64</th><th>float64</th><th>float64</th><th>float64</th><th>float64</th><th>float64</th><th>float64</th><th>float64</th><th>float64</th><th>float64</th><th>float64</th><th>float64</th><th>float64</th><th>float64</th><th>float64</th><th>float64</th><th>float64</th><th>float64</th><th>float64</th><th>float64</th><th>float64</th><th>float64</th><th>float64</th><th>float64</th><th>float64</th><th>float64</th><th>float64</th><th>float64</th><th>float64</th><th>float64</th><th>float64</th><th>float64</th><th>float64</th><th>float64</th><th>float64</th><th>float64</th><th>float64</th><th>float64</th><th>float64</th><th>float64</th><th>float64</th><th>float64</th><th>float64</th><th>float64</th><th>float64</th><th>float64</th><th>float64</th><th>float64</th><th>float64</th><th>float64</th><th>float64</th><th>float64</th><th>float64</th><th>float64</th><th>float64</th><th>float64</th><th>float64</th><th>float64</th><th>float64</th><th>str10</th><th>str5</th></tr></thead>\n",
       "<tr><td>rubies-egs61-v3_prism-clear_4233_42328.spec.fits</td><td>ceers-full-grizli-v7.4-fix_phot.fits</td><td>ceers-full-grizli-v7.4-fix.eazypy.zout.fits</td><td>45984</td><td>0.0025837352</td><td>7</td><td>1.0906843</td><td>1.1007513</td><td>1.111982</td><td>0.13404463</td><td>0.14948104</td><td>0.16724166</td><td>-0.025392357</td><td>-0.01450396</td><td>-0.005704524</td><td>1.5992963</td><td>2.3499546</td><td>3.897448</td><td>-5.432896</td><td>-2.759181</td><td>-1.5772108</td><td>-2.6653802</td><td>-0.920001</td><td>0.101954564</td><td>-2.2580905</td><td>-0.7151477</td><td>0.3022016</td><td>-1.9315832</td><td>-0.53638446</td><td>0.43751964</td><td>-1.5627255</td><td>-0.2930139</td><td>0.77155346</td><td>-1.3798062</td><td>-0.2493546</td><td>0.7266544</td><td>-1.347817</td><td>-0.22493288</td><td>0.79783887</td><td>10.594977</td><td>10.6036625</td><td>10.613153</td><td>1.9617285</td><td>2.0898528</td><td>2.2323523</td><td>0.26661077</td><td>0.31436917</td><td>0.3580495</td><td>-3.4096978</td><td>-2.4284744</td><td>-1.4446774</td><td>1.6471881</td><td>1.7081825</td><td>1.7717766</td><td>2.6793857</td><td>2.6820676</td><td>2.6856956</td><td>10.358072</td><td>10.366877</td><td>10.377017</td><td>10.594977</td><td>10.6036625</td><td>10.613153</td><td>3.2800497e-08</td><td>3.7763068e-05</td><td>0.003439571</td><td>-17.849339</td><td>-14.788182</td><td>-12.8288145</td><td>-8.708921</td><td>-5.647402</td><td>-3.6870823</td><td>1.2075636</td><td>1.2132057</td><td>1.2291875</td><td>1.158053</td><td>1.1736107</td><td>1.1806157</td><td>1.4938755</td><td>1.497463</td><td>1.5014544</td><td>1.9557912</td><td>2.0847487</td><td>2.228576</td><td>0.0</td><td>1.2216088e-05</td><td>0.032659084</td><td>13.353081</td><td>14.23861</td><td>15.93904</td><td>4.925325</td><td>4.945362</td><td>4.966345</td><td>2.97721</td><td>2.9887047</td><td>3.0007243</td><td>1.7958202</td><td>1.8099265</td><td>1.8247521</td><td>continuity</td><td>kriek</td></tr>\n",
       "</table></div>"
      ],
      "text/plain": [
       "<GTable length=1>\n",
       "                   file_spec                     ... dust_type\n",
       "                     str48                       ...    str5  \n",
       "------------------------------------------------ ... ---------\n",
       "rubies-egs61-v3_prism-clear_4233_42328.spec.fits ...     kriek"
      ]
     },
     "execution_count": 45,
     "metadata": {},
     "output_type": "execute_result"
    }
   ],
   "source": [
    "# ! ls pipes/cats/rubies-egs61-v3_prism-clear_4233_42328/\n",
    "post = utils.read_catalog(\"pipes/cats/rubies-egs61-v3_prism-clear_4233_42328/rubies-egs61-v3_prism-clear_4233_42328_continuity_kriek_postcat.csv\")\n",
    "post[\"sfh\"] = \"continuity\"\n",
    "post[\"dust_type\"] = \"kriek\"\n",
    "for c in post.colnames:\n",
    "    if post[c].dtype == np.float64:\n",
    "        post[c] = post[c].astype(np.float32)\n",
    "\n",
    "if (0):\n",
    "    db.send_to_database(\"nirspec_bagpipes_posterior\", post, if_exists=\"replace\")\n",
    "    db.execute(\"CREATE INDEX on nirspec_bagpipes_posterior (file_spec)\")\n",
    "\n",
    "db.SQL(\"select * from nirspec_bagpipes_posterior\")"
   ]
  },
  {
   "cell_type": "code",
   "execution_count": null,
   "id": "13ae8a2e-e6f6-4ef6-8535-9747c95088d9",
   "metadata": {},
   "outputs": [],
   "source": []
  }
 ],
 "metadata": {
  "kernelspec": {
   "display_name": "Python 3 (ipykernel)",
   "language": "python",
   "name": "python3"
  },
  "language_info": {
   "codemirror_mode": {
    "name": "ipython",
    "version": 3
   },
   "file_extension": ".py",
   "mimetype": "text/x-python",
   "name": "python",
   "nbconvert_exporter": "python",
   "pygments_lexer": "ipython3",
   "version": "3.10.16"
  }
 },
 "nbformat": 4,
 "nbformat_minor": 5
}
