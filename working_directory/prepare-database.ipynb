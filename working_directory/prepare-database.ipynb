{
 "cells": [
  {
   "cell_type": "markdown",
   "id": "49b1b449-137d-40c8-9c60-f7c92437a37e",
   "metadata": {},
   "source": [
    "# Initialize database tables"
   ]
  },
  {
   "cell_type": "markdown",
   "id": "6a6b8aab-2fd4-4dbd-8e07-bfdaeb3858e8",
   "metadata": {},
   "source": [
    "## Control table"
   ]
  },
  {
   "cell_type": "code",
   "execution_count": 38,
   "id": "c3d9a1fc-2087-48af-8ded-2e564bb954fd",
   "metadata": {},
   "outputs": [],
   "source": [
    "import os\n",
    "import numpy as np\n",
    "\n",
    "from grizli.aws import db\n",
    "from grizli import utils\n",
    "\n",
    "import djapipes"
   ]
  },
  {
   "cell_type": "code",
   "execution_count": 4,
   "id": "11c0bad6-699e-4feb-8d1b-d86dfcf0c626",
   "metadata": {},
   "outputs": [
    {
     "data": {
      "text/plain": [
       "\u001b[0;31mSignature:\u001b[0m\n",
       "\u001b[0mdjapipes\u001b[0m\u001b[0;34m.\u001b[0m\u001b[0mrun\u001b[0m\u001b[0;34m.\u001b[0m\u001b[0mrun_pipes_on_dja_spec\u001b[0m\u001b[0;34m(\u001b[0m\u001b[0;34m\u001b[0m\n",
       "\u001b[0;34m\u001b[0m    \u001b[0mspec_name\u001b[0m\u001b[0;34m,\u001b[0m\u001b[0;34m\u001b[0m\n",
       "\u001b[0;34m\u001b[0m    \u001b[0msfh\u001b[0m\u001b[0;34m=\u001b[0m\u001b[0;34m'continuity'\u001b[0m\u001b[0;34m,\u001b[0m\u001b[0;34m\u001b[0m\n",
       "\u001b[0;34m\u001b[0m    \u001b[0mn_age_bins\u001b[0m\u001b[0;34m=\u001b[0m\u001b[0;36m10\u001b[0m\u001b[0;34m,\u001b[0m\u001b[0;34m\u001b[0m\n",
       "\u001b[0;34m\u001b[0m    \u001b[0mscale_disp\u001b[0m\u001b[0;34m=\u001b[0m\u001b[0;36m1.3\u001b[0m\u001b[0;34m,\u001b[0m\u001b[0;34m\u001b[0m\n",
       "\u001b[0;34m\u001b[0m    \u001b[0mdust_type\u001b[0m\u001b[0;34m=\u001b[0m\u001b[0;34m'kriek'\u001b[0m\u001b[0;34m,\u001b[0m\u001b[0;34m\u001b[0m\n",
       "\u001b[0;34m\u001b[0m    \u001b[0muse_msa_resamp\u001b[0m\u001b[0;34m=\u001b[0m\u001b[0;32mFalse\u001b[0m\u001b[0;34m,\u001b[0m\u001b[0;34m\u001b[0m\n",
       "\u001b[0;34m\u001b[0m    \u001b[0mfit_agn\u001b[0m\u001b[0;34m=\u001b[0m\u001b[0;32mFalse\u001b[0m\u001b[0;34m,\u001b[0m\u001b[0;34m\u001b[0m\n",
       "\u001b[0;34m\u001b[0m    \u001b[0mfit_dla\u001b[0m\u001b[0;34m=\u001b[0m\u001b[0;32mFalse\u001b[0m\u001b[0;34m,\u001b[0m\u001b[0;34m\u001b[0m\n",
       "\u001b[0;34m\u001b[0m    \u001b[0mfit_mlpoly\u001b[0m\u001b[0;34m=\u001b[0m\u001b[0;32mFalse\u001b[0m\u001b[0;34m,\u001b[0m\u001b[0;34m\u001b[0m\n",
       "\u001b[0;34m\u001b[0m\u001b[0;34m)\u001b[0m\u001b[0;34m\u001b[0m\u001b[0;34m\u001b[0m\u001b[0m\n",
       "\u001b[0;31mDocstring:\u001b[0m\n",
       "Runs bagpipes on spectrum from DJA AWS database, saves posteriors as .h5 files and plots as .pdf files\n",
       "\n",
       "Parameters\n",
       "----------\n",
       "spec_name : DJA spectrum name, format=str\n",
       "\n",
       "Returns\n",
       "-------\n",
       "None\n",
       "\u001b[0;31mFile:\u001b[0m      ~/miniconda3/envs/py310-djapipes/lib/python3.10/site-packages/djapipes/run.py\n",
       "\u001b[0;31mType:\u001b[0m      function"
      ]
     },
     "metadata": {},
     "output_type": "display_data"
    }
   ],
   "source": [
    "djapipes.run.run_pipes_on_dja_spec?"
   ]
  },
  {
   "cell_type": "code",
   "execution_count": 31,
   "id": "75b7e72d-abd8-4e2f-994f-c3bbd7b88cf3",
   "metadata": {},
   "outputs": [
    {
     "data": {
      "text/html": [
       "<div><i>GTable length=1</i>\n",
       "<table id=\"table20877144560\" class=\"table-striped table-bordered table-condensed\">\n",
       "<thead><tr><th>file_spec</th><th>sfh</th><th>n_age_bins</th><th>scale_disp</th><th>dust_type</th><th>use_msa_resamp</th><th>fit_agn</th><th>fit_dla</th><th>fit_mlpoly</th><th>status</th><th>ctime</th></tr></thead>\n",
       "<thead><tr><th>str48</th><th>str10</th><th>int64</th><th>float64</th><th>str5</th><th>bool</th><th>bool</th><th>bool</th><th>bool</th><th>int64</th><th>float64</th></tr></thead>\n",
       "<tr><td>rubies-egs61-v3_prism-clear_4233_42328.spec.fits</td><td>continuity</td><td>10</td><td>1.3</td><td>kriek</td><td>False</td><td>False</td><td>False</td><td>False</td><td>70</td><td>1734393587.8455942</td></tr>\n",
       "</table></div>"
      ],
      "text/plain": [
       "<GTable length=1>\n",
       "                   file_spec                     ...       ctime       \n",
       "                     str48                       ...      float64      \n",
       "------------------------------------------------ ... ------------------\n",
       "rubies-egs61-v3_prism-clear_4233_42328.spec.fits ... 1734393587.8455942"
      ]
     },
     "execution_count": 31,
     "metadata": {},
     "output_type": "execute_result"
    }
   ],
   "source": [
    "import time\n",
    "row = dict(\n",
    "    file_spec = \"rubies-egs61-v3_prism-clear_4233_42328.spec.fits\",\n",
    "    sfh='continuity',\n",
    "    n_age_bins=10,\n",
    "    scale_disp=1.3,\n",
    "    dust_type='kriek',\n",
    "    use_msa_resamp=False,\n",
    "    fit_agn=False,\n",
    "    fit_dla=False,\n",
    "    fit_mlpoly=False,\n",
    "    status=70,\n",
    "    ctime=time.time(),\n",
    ")\n",
    "\n",
    "tab = utils.GTable([row])\n",
    "tab"
   ]
  },
  {
   "cell_type": "code",
   "execution_count": 33,
   "id": "559f4cc8-d1df-4a7b-a435-b541dfb1be09",
   "metadata": {},
   "outputs": [
    {
     "data": {
      "text/html": [
       "<div><i>GTable length=1</i>\n",
       "<table id=\"table20868963616\" class=\"table-striped table-bordered table-condensed\">\n",
       "<thead><tr><th>file_spec</th><th>sfh</th><th>n_age_bins</th><th>scale_disp</th><th>dust_type</th><th>use_msa_resamp</th><th>fit_agn</th><th>fit_dla</th><th>fit_mlpoly</th><th>status</th><th>ctime</th></tr></thead>\n",
       "<thead><tr><th>str48</th><th>str10</th><th>int64</th><th>float64</th><th>str5</th><th>bool</th><th>bool</th><th>bool</th><th>bool</th><th>int64</th><th>float64</th></tr></thead>\n",
       "<tr><td>rubies-egs61-v3_prism-clear_4233_42328.spec.fits</td><td>continuity</td><td>10</td><td>1.3</td><td>kriek</td><td>False</td><td>False</td><td>False</td><td>False</td><td>70</td><td>1734393587.8455942</td></tr>\n",
       "</table></div>"
      ],
      "text/plain": [
       "<GTable length=1>\n",
       "                   file_spec                     ...       ctime       \n",
       "                     str48                       ...      float64      \n",
       "------------------------------------------------ ... ------------------\n",
       "rubies-egs61-v3_prism-clear_4233_42328.spec.fits ... 1734393587.8455942"
      ]
     },
     "execution_count": 33,
     "metadata": {},
     "output_type": "execute_result"
    }
   ],
   "source": [
    "if (0):\n",
    "    # db.execute(\"DROP TABLE nirspec_bagpipes\")\n",
    "    db.send_to_database(\"nirspec_bagpipes\", tab, if_exists=\"replace\")\n",
    "    db.execute(\"CREATE INDEX on nirspec_bagpipes (file_spec)\")\n",
    "\n",
    "\n",
    "db.SQL(\"select * from nirspec_bagpipes\")"
   ]
  },
  {
   "cell_type": "markdown",
   "id": "2be32544-9457-4da4-9ad8-97947ff261fc",
   "metadata": {},
   "source": [
    "## Results table"
   ]
  },
  {
   "cell_type": "code",
   "execution_count": 45,
   "id": "7895bc8e-632d-42c0-931b-f27a69fd5ed6",
   "metadata": {},
   "outputs": [
    {
     "data": {
      "text/html": [
       "<div><i>GTable length=1</i>\n",
       "<table id=\"table20874154944\" class=\"table-striped table-bordered table-condensed\">\n",
       "<thead><tr><th>file_spec</th><th>file_phot</th><th>file_zout</th><th>id_phot</th><th>dr</th><th>filt_num</th><th>calib_0_16</th><th>calib_0_50</th><th>calib_0_84</th><th>calib_1_16</th><th>calib_1_50</th><th>calib_1_84</th><th>calib_2_16</th><th>calib_2_50</th><th>calib_2_84</th><th>continuity_dsfr1_16</th><th>continuity_dsfr1_50</th><th>continuity_dsfr1_84</th><th>continuity_dsfr2_16</th><th>continuity_dsfr2_50</th><th>continuity_dsfr2_84</th><th>continuity_dsfr3_16</th><th>continuity_dsfr3_50</th><th>continuity_dsfr3_84</th><th>continuity_dsfr4_16</th><th>continuity_dsfr4_50</th><th>continuity_dsfr4_84</th><th>continuity_dsfr5_16</th><th>continuity_dsfr5_50</th><th>continuity_dsfr5_84</th><th>continuity_dsfr6_16</th><th>continuity_dsfr6_50</th><th>continuity_dsfr6_84</th><th>continuity_dsfr7_16</th><th>continuity_dsfr7_50</th><th>continuity_dsfr7_84</th><th>continuity_dsfr8_16</th><th>continuity_dsfr8_50</th><th>continuity_dsfr8_84</th><th>continuity_massformed_16</th><th>continuity_massformed_50</th><th>continuity_massformed_84</th><th>continuity_metallicity_16</th><th>continuity_metallicity_50</th><th>continuity_metallicity_84</th><th>dust_Av_16</th><th>dust_Av_50</th><th>dust_Av_84</th><th>nebular_logU_16</th><th>nebular_logU_50</th><th>nebular_logU_84</th><th>noise_scaling_16</th><th>noise_scaling_50</th><th>noise_scaling_84</th><th>redshift_16</th><th>redshift_50</th><th>redshift_84</th><th>stellar_mass_16</th><th>stellar_mass_50</th><th>stellar_mass_84</th><th>formed_mass_16</th><th>formed_mass_50</th><th>formed_mass_84</th><th>sfr_16</th><th>sfr_50</th><th>sfr_84</th><th>ssfr_16</th><th>ssfr_50</th><th>ssfr_84</th><th>nsfr_16</th><th>nsfr_50</th><th>nsfr_84</th><th>mass_weighted_age_16</th><th>mass_weighted_age_50</th><th>mass_weighted_age_84</th><th>tform_16</th><th>tform_50</th><th>tform_84</th><th>tquench_16</th><th>tquench_50</th><th>tquench_84</th><th>mass_weighted_zmet_16</th><th>mass_weighted_zmet_50</th><th>mass_weighted_zmet_84</th><th>sfh_16</th><th>sfh_50</th><th>sfh_84</th><th>chisq_phot_16</th><th>chisq_phot_50</th><th>chisq_phot_84</th><th>restU_16</th><th>restU_50</th><th>restU_84</th><th>restV_16</th><th>restV_50</th><th>restV_84</th><th>restJ_16</th><th>restJ_50</th><th>restJ_84</th><th>sfh</th><th>dust_type</th></tr></thead>\n",
       "<thead><tr><th>str48</th><th>str36</th><th>str43</th><th>int64</th><th>float64</th><th>int64</th><th>float64</th><th>float64</th><th>float64</th><th>float64</th><th>float64</th><th>float64</th><th>float64</th><th>float64</th><th>float64</th><th>float64</th><th>float64</th><th>float64</th><th>float64</th><th>float64</th><th>float64</th><th>float64</th><th>float64</th><th>float64</th><th>float64</th><th>float64</th><th>float64</th><th>float64</th><th>float64</th><th>float64</th><th>float64</th><th>float64</th><th>float64</th><th>float64</th><th>float64</th><th>float64</th><th>float64</th><th>float64</th><th>float64</th><th>float64</th><th>float64</th><th>float64</th><th>float64</th><th>float64</th><th>float64</th><th>float64</th><th>float64</th><th>float64</th><th>float64</th><th>float64</th><th>float64</th><th>float64</th><th>float64</th><th>float64</th><th>float64</th><th>float64</th><th>float64</th><th>float64</th><th>float64</th><th>float64</th><th>float64</th><th>float64</th><th>float64</th><th>float64</th><th>float64</th><th>float64</th><th>float64</th><th>float64</th><th>float64</th><th>float64</th><th>float64</th><th>float64</th><th>float64</th><th>float64</th><th>float64</th><th>float64</th><th>float64</th><th>float64</th><th>float64</th><th>float64</th><th>float64</th><th>float64</th><th>float64</th><th>float64</th><th>float64</th><th>float64</th><th>float64</th><th>float64</th><th>float64</th><th>float64</th><th>float64</th><th>float64</th><th>float64</th><th>float64</th><th>float64</th><th>float64</th><th>float64</th><th>float64</th><th>float64</th><th>str10</th><th>str5</th></tr></thead>\n",
       "<tr><td>rubies-egs61-v3_prism-clear_4233_42328.spec.fits</td><td>ceers-full-grizli-v7.4-fix_phot.fits</td><td>ceers-full-grizli-v7.4-fix.eazypy.zout.fits</td><td>45984</td><td>0.0025837352</td><td>7</td><td>1.0906843</td><td>1.1007513</td><td>1.111982</td><td>0.13404463</td><td>0.14948104</td><td>0.16724166</td><td>-0.025392357</td><td>-0.01450396</td><td>-0.005704524</td><td>1.5992963</td><td>2.3499546</td><td>3.897448</td><td>-5.432896</td><td>-2.759181</td><td>-1.5772108</td><td>-2.6653802</td><td>-0.920001</td><td>0.101954564</td><td>-2.2580905</td><td>-0.7151477</td><td>0.3022016</td><td>-1.9315832</td><td>-0.53638446</td><td>0.43751964</td><td>-1.5627255</td><td>-0.2930139</td><td>0.77155346</td><td>-1.3798062</td><td>-0.2493546</td><td>0.7266544</td><td>-1.347817</td><td>-0.22493288</td><td>0.79783887</td><td>10.594977</td><td>10.6036625</td><td>10.613153</td><td>1.9617285</td><td>2.0898528</td><td>2.2323523</td><td>0.26661077</td><td>0.31436917</td><td>0.3580495</td><td>-3.4096978</td><td>-2.4284744</td><td>-1.4446774</td><td>1.6471881</td><td>1.7081825</td><td>1.7717766</td><td>2.6793857</td><td>2.6820676</td><td>2.6856956</td><td>10.358072</td><td>10.366877</td><td>10.377017</td><td>10.594977</td><td>10.6036625</td><td>10.613153</td><td>3.2800497e-08</td><td>3.7763068e-05</td><td>0.003439571</td><td>-17.849339</td><td>-14.788182</td><td>-12.8288145</td><td>-8.708921</td><td>-5.647402</td><td>-3.6870823</td><td>1.2075636</td><td>1.2132057</td><td>1.2291875</td><td>1.158053</td><td>1.1736107</td><td>1.1806157</td><td>1.4938755</td><td>1.497463</td><td>1.5014544</td><td>1.9557912</td><td>2.0847487</td><td>2.228576</td><td>0.0</td><td>1.2216088e-05</td><td>0.032659084</td><td>13.353081</td><td>14.23861</td><td>15.93904</td><td>4.925325</td><td>4.945362</td><td>4.966345</td><td>2.97721</td><td>2.9887047</td><td>3.0007243</td><td>1.7958202</td><td>1.8099265</td><td>1.8247521</td><td>continuity</td><td>kriek</td></tr>\n",
       "</table></div>"
      ],
      "text/plain": [
       "<GTable length=1>\n",
       "                   file_spec                     ... dust_type\n",
       "                     str48                       ...    str5  \n",
       "------------------------------------------------ ... ---------\n",
       "rubies-egs61-v3_prism-clear_4233_42328.spec.fits ...     kriek"
      ]
     },
     "execution_count": 45,
     "metadata": {},
     "output_type": "execute_result"
    }
   ],
   "source": [
    "# ! ls pipes/cats/rubies-egs61-v3_prism-clear_4233_42328/\n",
    "post = utils.read_catalog(\"pipes/cats/rubies-egs61-v3_prism-clear_4233_42328/rubies-egs61-v3_prism-clear_4233_42328_continuity_kriek_postcat.csv\")\n",
    "post[\"sfh\"] = \"continuity\"\n",
    "post[\"dust_type\"] = \"kriek\"\n",
    "for c in post.colnames:\n",
    "    if post[c].dtype == np.float64:\n",
    "        post[c] = post[c].astype(np.float32)\n",
    "\n",
    "if (0):\n",
    "    db.send_to_database(\"nirspec_bagpipes_posterior\", post, if_exists=\"replace\")\n",
    "    db.execute(\"CREATE INDEX on nirspec_bagpipes_posterior (file_spec)\")\n",
    "\n",
    "db.SQL(\"select * from nirspec_bagpipes_posterior\")"
   ]
  },
  {
   "cell_type": "markdown",
   "id": "51f0e379-e9a4-4a9c-b443-b0cf441c5fd2",
   "metadata": {},
   "source": [
    "# Sync example"
   ]
  },
  {
   "cell_type": "code",
   "execution_count": 47,
   "id": "f350fa4b-efd7-4a41-b484-cedcda9dce7e",
   "metadata": {},
   "outputs": [],
   "source": [
    "sfh = \"continuity\"\n",
    "dust_type = \"kriek\"\n",
    "\n",
    "file_spec = \"rubies-egs61-v3_prism-clear_4233_42328.spec.fits\"\n"
   ]
  },
  {
   "cell_type": "code",
   "execution_count": 62,
   "id": "3e8fd658-2c32-4db5-a2b0-ec01cfa64cd6",
   "metadata": {},
   "outputs": [
    {
     "name": "stdout",
     "output_type": "stream",
     "text": [
      "upload: pipes/cats/rubies-egs61-v3_prism-clear_4233_42328/rubies-egs61-v3_prism-clear_4233_42328_continuity_kriek_calibcurve.csv to s3://msaexp-nirspec/pipes/rubies-egs61-v3/rubies-egs61-v3_prism-clear_4233_42328_continuity_kriek_calibcurve.csv\n",
      "upload: pipes/cats/rubies-egs61-v3_prism-clear_4233_42328/rubies-egs61-v3_prism-clear_4233_42328_continuity_kriek_postcat.csv to s3://msaexp-nirspec/pipes/rubies-egs61-v3/rubies-egs61-v3_prism-clear_4233_42328_continuity_kriek_postcat.csv\n",
      "upload: pipes/plots/rubies-egs61-v3_prism-clear_4233_42328/rubies-egs61-v3_prism-clear_4233_42328_continuity_kriek_calib.png to s3://msaexp-nirspec/pipes/rubies-egs61-v3/rubies-egs61-v3_prism-clear_4233_42328_continuity_kriek_calib.png\n",
      "upload: pipes/plots/rubies-egs61-v3_prism-clear_4233_42328/rubies-egs61-v3_prism-clear_4233_42328_continuity_kriek_specfit_flam.png to s3://msaexp-nirspec/pipes/rubies-egs61-v3/rubies-egs61-v3_prism-clear_4233_42328_continuity_kriek_specfit_flam.png\n",
      "upload: pipes/plots/rubies-egs61-v3_prism-clear_4233_42328/rubies-egs61-v3_prism-clear_4233_42328_continuity_kriek_specfit_fnu.png to s3://msaexp-nirspec/pipes/rubies-egs61-v3/rubies-egs61-v3_prism-clear_4233_42328_continuity_kriek_specfit_fnu.png\n",
      "upload: pipes/plots/rubies-egs61-v3_prism-clear_4233_42328/rubies-egs61-v3_prism-clear_4233_42328_continuity_kriek_corner.png to s3://msaexp-nirspec/pipes/rubies-egs61-v3/rubies-egs61-v3_prism-clear_4233_42328_continuity_kriek_corner.png\n",
      "upload: pipes/plots/rubies-egs61-v3_prism-clear_4233_42328/rubies-egs61-v3_prism-clear_4233_42328_continuity_kriek_sfh.png to s3://msaexp-nirspec/pipes/rubies-egs61-v3/rubies-egs61-v3_prism-clear_4233_42328_continuity_kriek_sfh.png\n",
      "upload: pipes/plots/rubies-egs61-v3_prism-clear_4233_42328/rubies-egs61-v3_prism-clear_4233_42328_continuity_kriek_data_fnu.png to s3://msaexp-nirspec/pipes/rubies-egs61-v3/rubies-egs61-v3_prism-clear_4233_42328_continuity_kriek_data_fnu.png\n",
      "upload: pipes/plots/rubies-egs61-v3_prism-clear_4233_42328/rubies-egs61-v3_prism-clear_4233_42328_continuity_kriek_data_flam.png to s3://msaexp-nirspec/pipes/rubies-egs61-v3/rubies-egs61-v3_prism-clear_4233_42328_continuity_kriek_data_flam.png\n",
      "upload: pipes/posterior/rubies-egs61-v3_prism-clear_4233_42328/rubies-egs61-v3_prism-clear_4233_42328_continuity_kriek.h5 to s3://msaexp-nirspec/pipes/rubies-egs61-v3/rubies-egs61-v3_prism-clear_4233_42328_continuity_kriek.h5\n"
     ]
    }
   ],
   "source": [
    "import glob\n",
    "\n",
    "runName = file_spec.split('.spec.fits')[0]\n",
    "root = file_spec.split('-v3')[0] + '-v3'\n",
    "\n",
    "s3_path = f\"s3://msaexp-nirspec/pipes/{root}\"\n",
    "\n",
    "files = glob.glob(f\"pipes/cats/{runName}/*\")\n",
    "files += glob.glob(f\"pipes/plots/{runName}/*\")\n",
    "files += glob.glob(f\"pipes/posterior/{runName}/*\")\n",
    "\n",
    "for file in files:\n",
    "    ! aws s3 cp {file} {s3_path}/ --acl public-read\n"
   ]
  },
  {
   "cell_type": "markdown",
   "id": "6db43edc-1706-4077-a445-87baf4c53f98",
   "metadata": {},
   "source": [
    "# Scripts on EC2"
   ]
  },
  {
   "cell_type": "code",
   "execution_count": 76,
   "id": "2ba79c5e-ff2d-46af-bb58-547d883b8a08",
   "metadata": {},
   "outputs": [
    {
     "data": {
      "text/plain": [
       "<module 'djapipes.utils' from '/Users/gbrammer/miniconda3/envs/py310-djapipes/lib/python3.10/site-packages/djapipes/utils.py'>"
      ]
     },
     "execution_count": 76,
     "metadata": {},
     "output_type": "execute_result"
    }
   ],
   "source": [
    "from importlib import reload\n",
    "reload(djapipes.run); reload(djapipes.utils)\n",
    "reload(djapipes.run); reload(djapipes.utils)\n"
   ]
  },
  {
   "cell_type": "code",
   "execution_count": 93,
   "id": "a2353854-949d-4beb-9581-a4621016450f",
   "metadata": {},
   "outputs": [],
   "source": [
    "#!/usr/bin/env python\n",
    "\n",
    "# Wrapper around djapipes.run\n",
    "\n",
    "import os\n",
    "import glob\n",
    "import yaml\n",
    "import warnings\n",
    "import time\n",
    "\n",
    "import numpy as np\n",
    "import matplotlib.pyplot as plt\n",
    "plt.ioff()\n",
    "\n",
    "import astropy.time\n",
    "\n",
    "import grizli\n",
    "from grizli import utils\n",
    "utils.set_warnings()\n",
    "\n",
    "HOME = '/GrizliImaging/'\n",
    "HOME = os.getcwd()\n",
    "\n",
    "def get_random_bagpipes_file():\n",
    "    \"\"\"\n",
    "    Get a table row of a file to be processed\n",
    "\n",
    "    Returns\n",
    "    -------\n",
    "    res : None, table row\n",
    "        Returns a single row from `reprocess_rates` with ``status == 0``, or None if\n",
    "        nothing found\n",
    "\n",
    "    \"\"\"\n",
    "    from grizli.aws import db\n",
    "\n",
    "    rows = db.SQL(f\"\"\"SELECT *\n",
    "        FROM nirspec_bagpipes\n",
    "        WHERE status = 0 order by random() limit 1\n",
    "    \"\"\")\n",
    "\n",
    "    if len(rows) == 0:\n",
    "        return None\n",
    "    else:\n",
    "        return rows\n",
    "\n",
    "\n",
    "def run_djapipes_wrapper(file_spec=\"rubies-egs61-v3_prism-clear_4233_42328.spec.fits\", sfh=\"continuity\", dust_type=\"kriek\", **kwargs):\n",
    "    \"\"\"\n",
    "    Wrapper around djapipes.run.run_pipes_on_dja_spec\n",
    "    \"\"\"\n",
    "    import glob\n",
    "    \n",
    "    import djapipes\n",
    "    \n",
    "    status = 0\n",
    "    \n",
    "    try:\n",
    "        djapipes.run.run_pipes_on_dja_spec(\n",
    "            file_spec=file_spec,\n",
    "            sfh=sfh,\n",
    "            dust_type=dust_type,\n",
    "            **kwargs\n",
    "        )\n",
    "        \n",
    "        status |= 2\n",
    "    except:\n",
    "        status |= 4\n",
    "        return status\n",
    "\n",
    "    runName = file_spec.split('.spec.fits')[0]\n",
    "    root = file_spec.split('-v3')[0] + '-v3'\n",
    "\n",
    "    s3_path = f\"s3://msaexp-nirspec/pipes/{root}\"\n",
    "\n",
    "    files = glob.glob(f\"pipes/cats/{runName}/*\")\n",
    "    files += glob.glob(f\"pipes/plots/{runName}/*\")\n",
    "    files += glob.glob(f\"pipes/posterior/{runName}/*\")\n",
    "    \n",
    "    if len(files) == 0:\n",
    "        print(f\"No outputs found in pipes/*/{runName}\")\n",
    "        \n",
    "        status |= 8 \n",
    "    \n",
    "    for file in files:\n",
    "        os.system(f\"aws s3 cp {file} {s3_path}/ --acl public-read\")\n",
    "    \n",
    "    # Posterior result\n",
    "    post_file = f\"pipes/cats/{runName}/{runName}_{sfh}_{dust_type}_postcat.csv\"\n",
    "    if os.path.exists(post_file):\n",
    "        \n",
    "        print(f'Send {post_file} to nirspec_bagpipes_posterior')\n",
    "        \n",
    "        post = utils.read_catalog(post_file)\n",
    "        post[\"sfh\"] = sfh\n",
    "        post[\"dust_type\"] = dust_type\n",
    "    \n",
    "        for c in post.colnames:\n",
    "            if post[c].dtype == np.float64:\n",
    "                post[c] = post[c].astype(np.float32)\n",
    "        \n",
    "        # Remove row if it currently exists\n",
    "        db.execute(f\"\"\"\n",
    "        DELETE FROM nirspec_bagpipes_posterior\n",
    "        WHERE file_spec = '{file_spec}'\n",
    "        AND sfh = '{sfh}'\n",
    "        AND dust_type = '{dust_type}'\n",
    "        \"\"\")\n",
    "        \n",
    "        db.send_to_database(\"nirspec_bagpipes_posterior\", post, if_exists=\"append\")\n",
    "    else:\n",
    "        print(\"posterior summary {post_file} not found\")\n",
    "        status |= 16\n",
    "    \n",
    "    return status\n",
    "\n",
    "    \n",
    "def run_one():\n",
    "    \"\"\"\n",
    "    Run a file with status = 0\n",
    "    \"\"\"\n",
    "    import os\n",
    "    import time\n",
    "    import boto3\n",
    "\n",
    "    from grizli.aws import db\n",
    "    from grizli import utils\n",
    "\n",
    "\n",
    "    row = get_random_bagpipes_file()\n",
    "\n",
    "    if row is None:\n",
    "        print('Nothing to do.')\n",
    "        with open(os.path.join(HOME, 'nirspec_pipes_finished.txt'),'w') as fp:\n",
    "            fp.write(time.ctime() + '\\n')\n",
    "\n",
    "        return None\n",
    "\n",
    "    print(f'============  NIRSpec dja-pipes  ==============')\n",
    "    print(f\"{row['file_spec'][0]}\")\n",
    "    print(f'========= {time.ctime()} ==========')\n",
    "\n",
    "    file_prefix = row['file_spec'][0].split('.spec')[0]\n",
    "    # key = row['root'][0] + '-' + file_prefix\n",
    "    key = f\"{file_prefix}-pipes\"\n",
    "\n",
    "    WORK_PATH = os.path.join(HOME, key)\n",
    "    if os.path.exists(WORK_PATH):\n",
    "        print('! already exists, skip')\n",
    "        return row\n",
    "    \n",
    "    ORIG_PATH = os.getcwd()\n",
    "    \n",
    "    os.makedirs(WORK_PATH)    \n",
    "    os.chdir(WORK_PATH)\n",
    "    \n",
    "    with open(os.path.join(HOME, 'nirspec_pipes_history.txt'),'a') as fp:\n",
    "        fp.write(f\"{time.ctime()} {row['file_spec'][0]}\\n\")\n",
    "\n",
    "    # Update db\n",
    "    db.execute(f\"\"\"\n",
    "        UPDATE nirspec_bagpipes\n",
    "        SET status = 1, ctime={time.time()}\n",
    "        WHERE\n",
    "            file_spec = '{row['file_spec'][0]}'\n",
    "        \"\"\"\n",
    "    )\n",
    "\n",
    "    #################\n",
    "    # Run it\n",
    "    #################\n",
    "    status = run_djapipes_wrapper(**row[0])\n",
    "\n",
    "    # Update db\n",
    "    db.execute(f\"\"\"\n",
    "        UPDATE nirspec_bagpipes\n",
    "        SET\n",
    "            status = {status},\n",
    "            ctime = {time.time()}\n",
    "        WHERE\n",
    "            file_spec = '{row['file_spec'][0]}'\n",
    "        \"\"\"\n",
    "    )\n",
    "\n",
    "    os.chdir(ORIG_PATH)\n",
    "\n",
    "    return row\n",
    "\n",
    "\n",
    "# if __name__ == \"__main__\":\n",
    "#     run_one()\n",
    "\n",
    "\n"
   ]
  },
  {
   "cell_type": "code",
   "execution_count": 84,
   "id": "42233446-e363-4a77-8252-fbe6342e0d80",
   "metadata": {},
   "outputs": [
    {
     "name": "stdout",
     "output_type": "stream",
     "text": [
      "42328 rubies-egs61-v3_prism-clear_4233_42328\n",
      "100% [............................................................................] 639360 / 639360\n",
      "Results loaded from pipes/posterior/rubies-egs61-v3_prism-clear_4233_42328/42328.h5\n",
      "\n",
      "Fitting not performed as results have already been loaded from pipes/posterior/rubies-egs61-v3_prism-clear_4233_42328/42328.h5. To start over delete this file or change run.\n",
      "\n",
      "upload: pipes/cats/rubies-egs61-v3_prism-clear_4233_42328/rubies-egs61-v3_prism-clear_4233_42328_continuity_kriek_calibcurve.csv to s3://msaexp-nirspec/pipes/rubies-egs61-v3/rubies-egs61-v3_prism-clear_4233_42328_continuity_kriek_calibcurve.csv\n",
      "upload: pipes/cats/rubies-egs61-v3_prism-clear_4233_42328/rubies-egs61-v3_prism-clear_4233_42328_continuity_kriek_postcat.csv to s3://msaexp-nirspec/pipes/rubies-egs61-v3/rubies-egs61-v3_prism-clear_4233_42328_continuity_kriek_postcat.csv\n",
      "upload: pipes/plots/rubies-egs61-v3_prism-clear_4233_42328/rubies-egs61-v3_prism-clear_4233_42328_continuity_kriek_calib.png to s3://msaexp-nirspec/pipes/rubies-egs61-v3/rubies-egs61-v3_prism-clear_4233_42328_continuity_kriek_calib.png\n",
      "upload: pipes/plots/rubies-egs61-v3_prism-clear_4233_42328/rubies-egs61-v3_prism-clear_4233_42328_continuity_kriek_specfit_flam.png to s3://msaexp-nirspec/pipes/rubies-egs61-v3/rubies-egs61-v3_prism-clear_4233_42328_continuity_kriek_specfit_flam.png\n",
      "upload: pipes/plots/rubies-egs61-v3_prism-clear_4233_42328/rubies-egs61-v3_prism-clear_4233_42328_continuity_kriek_specfit_fnu.png to s3://msaexp-nirspec/pipes/rubies-egs61-v3/rubies-egs61-v3_prism-clear_4233_42328_continuity_kriek_specfit_fnu.png\n",
      "upload: pipes/plots/rubies-egs61-v3_prism-clear_4233_42328/rubies-egs61-v3_prism-clear_4233_42328_continuity_kriek_corner.png to s3://msaexp-nirspec/pipes/rubies-egs61-v3/rubies-egs61-v3_prism-clear_4233_42328_continuity_kriek_corner.png\n",
      "upload: pipes/plots/rubies-egs61-v3_prism-clear_4233_42328/rubies-egs61-v3_prism-clear_4233_42328_continuity_kriek_sfh.png to s3://msaexp-nirspec/pipes/rubies-egs61-v3/rubies-egs61-v3_prism-clear_4233_42328_continuity_kriek_sfh.png\n",
      "upload: pipes/plots/rubies-egs61-v3_prism-clear_4233_42328/rubies-egs61-v3_prism-clear_4233_42328_continuity_kriek_data_fnu.png to s3://msaexp-nirspec/pipes/rubies-egs61-v3/rubies-egs61-v3_prism-clear_4233_42328_continuity_kriek_data_fnu.png\n",
      "upload: pipes/plots/rubies-egs61-v3_prism-clear_4233_42328/rubies-egs61-v3_prism-clear_4233_42328_continuity_kriek_data_flam.png to s3://msaexp-nirspec/pipes/rubies-egs61-v3/rubies-egs61-v3_prism-clear_4233_42328_continuity_kriek_data_flam.png\n",
      "upload: pipes/posterior/rubies-egs61-v3_prism-clear_4233_42328/rubies-egs61-v3_prism-clear_4233_42328_continuity_kriek.h5 to s3://msaexp-nirspec/pipes/rubies-egs61-v3/rubies-egs61-v3_prism-clear_4233_42328_continuity_kriek.h5\n",
      "Send pipes/cats/rubies-egs61-v3_prism-clear_4233_42328/rubies-egs61-v3_prism-clear_4233_42328_continuity_kriek_postcat.csv to nirspec_bagpipes_posterior\n"
     ]
    },
    {
     "data": {
      "text/plain": [
       "2"
      ]
     },
     "execution_count": 84,
     "metadata": {},
     "output_type": "execute_result"
    }
   ],
   "source": [
    "run_djapipes_wrapper()"
   ]
  },
  {
   "cell_type": "code",
   "execution_count": 86,
   "id": "97224e8c-988f-4a01-bc72-a908520c9e23",
   "metadata": {},
   "outputs": [
    {
     "data": {
      "text/html": [
       "<div><i>GTable length=1</i>\n",
       "<table id=\"table21782377040\" class=\"table-striped table-bordered table-condensed\">\n",
       "<thead><tr><th>file_spec</th><th>sfh</th><th>n_age_bins</th><th>scale_disp</th><th>dust_type</th><th>use_msa_resamp</th><th>fit_agn</th><th>fit_dla</th><th>fit_mlpoly</th><th>status</th><th>ctime</th></tr></thead>\n",
       "<thead><tr><th>str48</th><th>str10</th><th>int64</th><th>float64</th><th>str5</th><th>bool</th><th>bool</th><th>bool</th><th>bool</th><th>int64</th><th>float64</th></tr></thead>\n",
       "<tr><td>rubies-egs61-v3_prism-clear_4233_42328.spec.fits</td><td>continuity</td><td>10</td><td>1.3</td><td>kriek</td><td>False</td><td>False</td><td>False</td><td>False</td><td>70</td><td>1734393587.8455942</td></tr>\n",
       "</table></div>"
      ],
      "text/plain": [
       "<GTable length=1>\n",
       "                   file_spec                     ...       ctime       \n",
       "                     str48                       ...      float64      \n",
       "------------------------------------------------ ... ------------------\n",
       "rubies-egs61-v3_prism-clear_4233_42328.spec.fits ... 1734393587.8455942"
      ]
     },
     "execution_count": 86,
     "metadata": {},
     "output_type": "execute_result"
    }
   ],
   "source": [
    "rows = db.SQL(\"select * from nirspec_bagpipes\")\n",
    "rows"
   ]
  },
  {
   "cell_type": "code",
   "execution_count": 90,
   "id": "2c256096-91f0-424e-a6b3-e56c972bbc27",
   "metadata": {},
   "outputs": [
    {
     "data": {
      "text/plain": [
       "1"
      ]
     },
     "execution_count": 90,
     "metadata": {},
     "output_type": "execute_result"
    }
   ],
   "source": [
    "# New row\n",
    "rows = rows[:1]\n",
    "rows['file_spec'] = \"rubies-uds43-v3_prism-clear_4233_31823.spec.fits\"\n",
    "rows['status'] = 0\n",
    "db.send_to_database(\"nirspec_bagpipes\", rows, if_exists='append')"
   ]
  },
  {
   "cell_type": "code",
   "execution_count": 94,
   "id": "33ea8794-4dcf-4139-8ce4-6eb84f5500a2",
   "metadata": {},
   "outputs": [
    {
     "data": {
      "text/html": [
       "<div><i>GTable length=2</i>\n",
       "<table id=\"table21782402368\" class=\"table-striped table-bordered table-condensed\">\n",
       "<thead><tr><th>file_spec</th><th>sfh</th><th>n_age_bins</th><th>scale_disp</th><th>dust_type</th><th>use_msa_resamp</th><th>fit_agn</th><th>fit_dla</th><th>fit_mlpoly</th><th>status</th><th>ctime</th></tr></thead>\n",
       "<thead><tr><th>str48</th><th>str10</th><th>int64</th><th>float64</th><th>str5</th><th>bool</th><th>bool</th><th>bool</th><th>bool</th><th>int64</th><th>float64</th></tr></thead>\n",
       "<tr><td>rubies-egs61-v3_prism-clear_4233_42328.spec.fits</td><td>continuity</td><td>10</td><td>1.3</td><td>kriek</td><td>False</td><td>False</td><td>False</td><td>False</td><td>70</td><td>1734393587.8455942</td></tr>\n",
       "<tr><td>rubies-uds43-v3_prism-clear_4233_31823.spec.fits</td><td>continuity</td><td>10</td><td>1.3</td><td>kriek</td><td>False</td><td>False</td><td>False</td><td>False</td><td>0</td><td>1734393587.8455942</td></tr>\n",
       "</table></div>"
      ],
      "text/plain": [
       "<GTable length=2>\n",
       "                   file_spec                     ...       ctime       \n",
       "                     str48                       ...      float64      \n",
       "------------------------------------------------ ... ------------------\n",
       "rubies-egs61-v3_prism-clear_4233_42328.spec.fits ... 1734393587.8455942\n",
       "rubies-uds43-v3_prism-clear_4233_31823.spec.fits ... 1734393587.8455942"
      ]
     },
     "execution_count": 94,
     "metadata": {},
     "output_type": "execute_result"
    }
   ],
   "source": [
    "db.SQL(\"select * from nirspec_bagpipes\")"
   ]
  },
  {
   "cell_type": "code",
   "execution_count": 95,
   "id": "bd65f85d-9d34-403f-bc6f-7b6d11d85eb9",
   "metadata": {},
   "outputs": [
    {
     "name": "stdout",
     "output_type": "stream",
     "text": [
      "============  NIRSpec dja-pipes  ==============\n",
      "rubies-uds43-v3_prism-clear_4233_31823.spec.fits\n",
      "========= Tue Dec 17 02:05:53 2024 ==========\n",
      "31823 rubies-uds43-v3_prism-clear_4233_31823\n",
      "100% [............................................................................] 642240 / 642240\n",
      "Bagpipes: fitting object 31823\n",
      "\n",
      "\n",
      "Completed in 355.6 seconds.\n",
      "\n",
      "Parameter                          Posterior percentiles\n",
      "                                16th       50th       84th\n",
      "----------------------------------------------------------\n",
      "calib:0                        1.276      1.288      1.300\n",
      "calib:1                       -0.025     -0.007      0.009\n",
      "calib:2                       -0.017     -0.009     -0.000\n",
      "continuity:dsfr1               1.583      2.313      4.074\n",
      "continuity:dsfr2              -6.489     -3.834     -2.348\n",
      "continuity:dsfr3              -2.194     -0.725      0.223\n",
      "continuity:dsfr4              -2.081     -0.623      0.387\n",
      "continuity:dsfr5              -1.845     -0.497      0.478\n",
      "continuity:dsfr6              -1.676     -0.381      0.608\n",
      "continuity:dsfr7              -1.549     -0.238      0.809\n",
      "continuity:dsfr8              -1.290     -0.129      0.943\n",
      "continuity:massformed         11.101     11.108     11.115\n",
      "continuity:metallicity         1.830      1.922      2.011\n",
      "dust:Av                        0.502      0.533      0.561\n",
      "nebular:logU                  -3.602     -2.559     -1.500\n",
      "noise:scaling                  1.956      2.020      2.091\n",
      "redshift                       2.600      2.602      2.604\n",
      "\n",
      "\n",
      "upload: pipes/cats/rubies-uds43-v3_prism-clear_4233_31823/rubies-uds43-v3_prism-clear_4233_31823_continuity_kriek_postcat.csv to s3://msaexp-nirspec/pipes/rubies-uds43-v3/rubies-uds43-v3_prism-clear_4233_31823_continuity_kriek_postcat.csv\n",
      "upload: pipes/cats/rubies-uds43-v3_prism-clear_4233_31823/rubies-uds43-v3_prism-clear_4233_31823_continuity_kriek_calibcurve.csv to s3://msaexp-nirspec/pipes/rubies-uds43-v3/rubies-uds43-v3_prism-clear_4233_31823_continuity_kriek_calibcurve.csv\n",
      "upload: pipes/plots/rubies-uds43-v3_prism-clear_4233_31823/rubies-uds43-v3_prism-clear_4233_31823_continuity_kriek_data_flam.png to s3://msaexp-nirspec/pipes/rubies-uds43-v3/rubies-uds43-v3_prism-clear_4233_31823_continuity_kriek_data_flam.png\n",
      "upload: pipes/plots/rubies-uds43-v3_prism-clear_4233_31823/rubies-uds43-v3_prism-clear_4233_31823_continuity_kriek_corner.png to s3://msaexp-nirspec/pipes/rubies-uds43-v3/rubies-uds43-v3_prism-clear_4233_31823_continuity_kriek_corner.png\n",
      "upload: pipes/plots/rubies-uds43-v3_prism-clear_4233_31823/rubies-uds43-v3_prism-clear_4233_31823_continuity_kriek_calib.png to s3://msaexp-nirspec/pipes/rubies-uds43-v3/rubies-uds43-v3_prism-clear_4233_31823_continuity_kriek_calib.png\n",
      "upload: pipes/plots/rubies-uds43-v3_prism-clear_4233_31823/rubies-uds43-v3_prism-clear_4233_31823_continuity_kriek_specfit_flam.png to s3://msaexp-nirspec/pipes/rubies-uds43-v3/rubies-uds43-v3_prism-clear_4233_31823_continuity_kriek_specfit_flam.png\n",
      "upload: pipes/plots/rubies-uds43-v3_prism-clear_4233_31823/rubies-uds43-v3_prism-clear_4233_31823_continuity_kriek_data_fnu.png to s3://msaexp-nirspec/pipes/rubies-uds43-v3/rubies-uds43-v3_prism-clear_4233_31823_continuity_kriek_data_fnu.png\n",
      "upload: pipes/plots/rubies-uds43-v3_prism-clear_4233_31823/rubies-uds43-v3_prism-clear_4233_31823_continuity_kriek_specfit_fnu.png to s3://msaexp-nirspec/pipes/rubies-uds43-v3/rubies-uds43-v3_prism-clear_4233_31823_continuity_kriek_specfit_fnu.png\n",
      "upload: pipes/plots/rubies-uds43-v3_prism-clear_4233_31823/rubies-uds43-v3_prism-clear_4233_31823_continuity_kriek_sfh.png to s3://msaexp-nirspec/pipes/rubies-uds43-v3/rubies-uds43-v3_prism-clear_4233_31823_continuity_kriek_sfh.png\n",
      "upload: pipes/posterior/rubies-uds43-v3_prism-clear_4233_31823/rubies-uds43-v3_prism-clear_4233_31823_continuity_kriek.h5 to s3://msaexp-nirspec/pipes/rubies-uds43-v3/rubies-uds43-v3_prism-clear_4233_31823_continuity_kriek.h5\n",
      "Send pipes/cats/rubies-uds43-v3_prism-clear_4233_31823/rubies-uds43-v3_prism-clear_4233_31823_continuity_kriek_postcat.csv to nirspec_bagpipes_posterior\n"
     ]
    },
    {
     "ename": "ProgrammingError",
     "evalue": "(psycopg2.errors.SyntaxError) syntax error at or near \"WHERE\"\nLINE 6:         WHERE\n                ^\n\n[SQL: \n        UPDATE nirspec_bagpipes\n        SET\n            status = 2,\n            ctime = 1734397969.853627,\n        WHERE\n            file_spec = 'rubies-uds43-v3_prism-clear_4233_31823.spec.fits'\n        ]\n(Background on this error at: https://sqlalche.me/e/20/f405)",
     "output_type": "error",
     "traceback": [
      "\u001b[0;31m---------------------------------------------------------------------------\u001b[0m",
      "\u001b[0;31mSyntaxError\u001b[0m                               Traceback (most recent call last)",
      "File \u001b[0;32m~/miniconda3/envs/py310-djapipes/lib/python3.10/site-packages/sqlalchemy/engine/base.py:1967\u001b[0m, in \u001b[0;36mConnection._exec_single_context\u001b[0;34m(self, dialect, context, statement, parameters)\u001b[0m\n\u001b[1;32m   1966\u001b[0m     \u001b[38;5;28;01mif\u001b[39;00m \u001b[38;5;129;01mnot\u001b[39;00m evt_handled:\n\u001b[0;32m-> 1967\u001b[0m         \u001b[38;5;28;43mself\u001b[39;49m\u001b[38;5;241;43m.\u001b[39;49m\u001b[43mdialect\u001b[49m\u001b[38;5;241;43m.\u001b[39;49m\u001b[43mdo_execute\u001b[49m\u001b[43m(\u001b[49m\n\u001b[1;32m   1968\u001b[0m \u001b[43m            \u001b[49m\u001b[43mcursor\u001b[49m\u001b[43m,\u001b[49m\u001b[43m \u001b[49m\u001b[43mstr_statement\u001b[49m\u001b[43m,\u001b[49m\u001b[43m \u001b[49m\u001b[43meffective_parameters\u001b[49m\u001b[43m,\u001b[49m\u001b[43m \u001b[49m\u001b[43mcontext\u001b[49m\n\u001b[1;32m   1969\u001b[0m \u001b[43m        \u001b[49m\u001b[43m)\u001b[49m\n\u001b[1;32m   1971\u001b[0m \u001b[38;5;28;01mif\u001b[39;00m \u001b[38;5;28mself\u001b[39m\u001b[38;5;241m.\u001b[39m_has_events \u001b[38;5;129;01mor\u001b[39;00m \u001b[38;5;28mself\u001b[39m\u001b[38;5;241m.\u001b[39mengine\u001b[38;5;241m.\u001b[39m_has_events:\n",
      "File \u001b[0;32m~/miniconda3/envs/py310-djapipes/lib/python3.10/site-packages/sqlalchemy/engine/default.py:941\u001b[0m, in \u001b[0;36mDefaultDialect.do_execute\u001b[0;34m(self, cursor, statement, parameters, context)\u001b[0m\n\u001b[1;32m    940\u001b[0m \u001b[38;5;28;01mdef\u001b[39;00m \u001b[38;5;21mdo_execute\u001b[39m(\u001b[38;5;28mself\u001b[39m, cursor, statement, parameters, context\u001b[38;5;241m=\u001b[39m\u001b[38;5;28;01mNone\u001b[39;00m):\n\u001b[0;32m--> 941\u001b[0m     \u001b[43mcursor\u001b[49m\u001b[38;5;241;43m.\u001b[39;49m\u001b[43mexecute\u001b[49m\u001b[43m(\u001b[49m\u001b[43mstatement\u001b[49m\u001b[43m,\u001b[49m\u001b[43m \u001b[49m\u001b[43mparameters\u001b[49m\u001b[43m)\u001b[49m\n",
      "\u001b[0;31mSyntaxError\u001b[0m: syntax error at or near \"WHERE\"\nLINE 6:         WHERE\n                ^\n",
      "\nThe above exception was the direct cause of the following exception:\n",
      "\u001b[0;31mProgrammingError\u001b[0m                          Traceback (most recent call last)",
      "Cell \u001b[0;32mIn[95], line 1\u001b[0m\n\u001b[0;32m----> 1\u001b[0m row \u001b[38;5;241m=\u001b[39m \u001b[43mrun_one\u001b[49m\u001b[43m(\u001b[49m\u001b[43m)\u001b[49m\n",
      "Cell \u001b[0;32mIn[93], line 171\u001b[0m, in \u001b[0;36mrun_one\u001b[0;34m()\u001b[0m\n\u001b[1;32m    168\u001b[0m status \u001b[38;5;241m=\u001b[39m run_djapipes_wrapper(\u001b[38;5;241m*\u001b[39m\u001b[38;5;241m*\u001b[39mrow[\u001b[38;5;241m0\u001b[39m])\n\u001b[1;32m    170\u001b[0m \u001b[38;5;66;03m# Update db\u001b[39;00m\n\u001b[0;32m--> 171\u001b[0m \u001b[43mdb\u001b[49m\u001b[38;5;241;43m.\u001b[39;49m\u001b[43mexecute\u001b[49m\u001b[43m(\u001b[49m\u001b[38;5;124;43mf\u001b[39;49m\u001b[38;5;124;43m\"\"\"\u001b[39;49m\n\u001b[1;32m    172\u001b[0m \u001b[38;5;124;43m    UPDATE nirspec_bagpipes\u001b[39;49m\n\u001b[1;32m    173\u001b[0m \u001b[38;5;124;43m    SET\u001b[39;49m\n\u001b[1;32m    174\u001b[0m \u001b[38;5;124;43m        status = \u001b[39;49m\u001b[38;5;132;43;01m{\u001b[39;49;00m\u001b[43mstatus\u001b[49m\u001b[38;5;132;43;01m}\u001b[39;49;00m\u001b[38;5;124;43m,\u001b[39;49m\n\u001b[1;32m    175\u001b[0m \u001b[38;5;124;43m        ctime = \u001b[39;49m\u001b[38;5;132;43;01m{\u001b[39;49;00m\u001b[43mtime\u001b[49m\u001b[38;5;241;43m.\u001b[39;49m\u001b[43mtime\u001b[49m\u001b[43m(\u001b[49m\u001b[43m)\u001b[49m\u001b[38;5;132;43;01m}\u001b[39;49;00m\u001b[38;5;124;43m,\u001b[39;49m\n\u001b[1;32m    176\u001b[0m \u001b[38;5;124;43m    WHERE\u001b[39;49m\n\u001b[1;32m    177\u001b[0m \u001b[38;5;124;43m        file_spec = \u001b[39;49m\u001b[38;5;124;43m'\u001b[39;49m\u001b[38;5;132;43;01m{\u001b[39;49;00m\u001b[43mrow\u001b[49m\u001b[43m[\u001b[49m\u001b[38;5;124;43m'\u001b[39;49m\u001b[38;5;124;43mfile_spec\u001b[39;49m\u001b[38;5;124;43m'\u001b[39;49m\u001b[43m]\u001b[49m\u001b[43m[\u001b[49m\u001b[38;5;241;43m0\u001b[39;49m\u001b[43m]\u001b[49m\u001b[38;5;132;43;01m}\u001b[39;49;00m\u001b[38;5;124;43m'\u001b[39;49m\n\u001b[1;32m    178\u001b[0m \u001b[38;5;124;43m    \u001b[39;49m\u001b[38;5;124;43m\"\"\"\u001b[39;49m\n\u001b[1;32m    179\u001b[0m \u001b[43m\u001b[49m\u001b[43m)\u001b[49m\n\u001b[1;32m    181\u001b[0m \u001b[38;5;28;01mreturn\u001b[39;00m row\n",
      "File \u001b[0;32m~/miniconda3/envs/py310-djapipes/lib/python3.10/site-packages/grizli/aws/db.py:258\u001b[0m, in \u001b[0;36mexecute\u001b[0;34m(sql_text)\u001b[0m\n\u001b[1;32m    256\u001b[0m \u001b[38;5;28;01melse\u001b[39;00m:\n\u001b[1;32m    257\u001b[0m     conn \u001b[38;5;241m=\u001b[39m _ENGINE\u001b[38;5;241m.\u001b[39mconnect()\n\u001b[0;32m--> 258\u001b[0m     resp \u001b[38;5;241m=\u001b[39m \u001b[43mconn\u001b[49m\u001b[38;5;241;43m.\u001b[39;49m\u001b[43mexec_driver_sql\u001b[49m\u001b[43m(\u001b[49m\u001b[43msql_text\u001b[49m\u001b[43m)\u001b[49m\n\u001b[1;32m    259\u001b[0m     conn\u001b[38;5;241m.\u001b[39mcommit()\n\u001b[1;32m    260\u001b[0m     conn\u001b[38;5;241m.\u001b[39mclose()\n",
      "File \u001b[0;32m~/miniconda3/envs/py310-djapipes/lib/python3.10/site-packages/sqlalchemy/engine/base.py:1779\u001b[0m, in \u001b[0;36mConnection.exec_driver_sql\u001b[0;34m(self, statement, parameters, execution_options)\u001b[0m\n\u001b[1;32m   1774\u001b[0m execution_options \u001b[38;5;241m=\u001b[39m \u001b[38;5;28mself\u001b[39m\u001b[38;5;241m.\u001b[39m_execution_options\u001b[38;5;241m.\u001b[39mmerge_with(\n\u001b[1;32m   1775\u001b[0m     execution_options\n\u001b[1;32m   1776\u001b[0m )\n\u001b[1;32m   1778\u001b[0m dialect \u001b[38;5;241m=\u001b[39m \u001b[38;5;28mself\u001b[39m\u001b[38;5;241m.\u001b[39mdialect\n\u001b[0;32m-> 1779\u001b[0m ret \u001b[38;5;241m=\u001b[39m \u001b[38;5;28;43mself\u001b[39;49m\u001b[38;5;241;43m.\u001b[39;49m\u001b[43m_execute_context\u001b[49m\u001b[43m(\u001b[49m\n\u001b[1;32m   1780\u001b[0m \u001b[43m    \u001b[49m\u001b[43mdialect\u001b[49m\u001b[43m,\u001b[49m\n\u001b[1;32m   1781\u001b[0m \u001b[43m    \u001b[49m\u001b[43mdialect\u001b[49m\u001b[38;5;241;43m.\u001b[39;49m\u001b[43mexecution_ctx_cls\u001b[49m\u001b[38;5;241;43m.\u001b[39;49m\u001b[43m_init_statement\u001b[49m\u001b[43m,\u001b[49m\n\u001b[1;32m   1782\u001b[0m \u001b[43m    \u001b[49m\u001b[43mstatement\u001b[49m\u001b[43m,\u001b[49m\n\u001b[1;32m   1783\u001b[0m \u001b[43m    \u001b[49m\u001b[38;5;28;43;01mNone\u001b[39;49;00m\u001b[43m,\u001b[49m\n\u001b[1;32m   1784\u001b[0m \u001b[43m    \u001b[49m\u001b[43mexecution_options\u001b[49m\u001b[43m,\u001b[49m\n\u001b[1;32m   1785\u001b[0m \u001b[43m    \u001b[49m\u001b[43mstatement\u001b[49m\u001b[43m,\u001b[49m\n\u001b[1;32m   1786\u001b[0m \u001b[43m    \u001b[49m\u001b[43mdistilled_parameters\u001b[49m\u001b[43m,\u001b[49m\n\u001b[1;32m   1787\u001b[0m \u001b[43m\u001b[49m\u001b[43m)\u001b[49m\n\u001b[1;32m   1789\u001b[0m \u001b[38;5;28;01mreturn\u001b[39;00m ret\n",
      "File \u001b[0;32m~/miniconda3/envs/py310-djapipes/lib/python3.10/site-packages/sqlalchemy/engine/base.py:1846\u001b[0m, in \u001b[0;36mConnection._execute_context\u001b[0;34m(self, dialect, constructor, statement, parameters, execution_options, *args, **kw)\u001b[0m\n\u001b[1;32m   1844\u001b[0m     \u001b[38;5;28;01mreturn\u001b[39;00m \u001b[38;5;28mself\u001b[39m\u001b[38;5;241m.\u001b[39m_exec_insertmany_context(dialect, context)\n\u001b[1;32m   1845\u001b[0m \u001b[38;5;28;01melse\u001b[39;00m:\n\u001b[0;32m-> 1846\u001b[0m     \u001b[38;5;28;01mreturn\u001b[39;00m \u001b[38;5;28;43mself\u001b[39;49m\u001b[38;5;241;43m.\u001b[39;49m\u001b[43m_exec_single_context\u001b[49m\u001b[43m(\u001b[49m\n\u001b[1;32m   1847\u001b[0m \u001b[43m        \u001b[49m\u001b[43mdialect\u001b[49m\u001b[43m,\u001b[49m\u001b[43m \u001b[49m\u001b[43mcontext\u001b[49m\u001b[43m,\u001b[49m\u001b[43m \u001b[49m\u001b[43mstatement\u001b[49m\u001b[43m,\u001b[49m\u001b[43m \u001b[49m\u001b[43mparameters\u001b[49m\n\u001b[1;32m   1848\u001b[0m \u001b[43m    \u001b[49m\u001b[43m)\u001b[49m\n",
      "File \u001b[0;32m~/miniconda3/envs/py310-djapipes/lib/python3.10/site-packages/sqlalchemy/engine/base.py:1986\u001b[0m, in \u001b[0;36mConnection._exec_single_context\u001b[0;34m(self, dialect, context, statement, parameters)\u001b[0m\n\u001b[1;32m   1983\u001b[0m     result \u001b[38;5;241m=\u001b[39m context\u001b[38;5;241m.\u001b[39m_setup_result_proxy()\n\u001b[1;32m   1985\u001b[0m \u001b[38;5;28;01mexcept\u001b[39;00m \u001b[38;5;167;01mBaseException\u001b[39;00m \u001b[38;5;28;01mas\u001b[39;00m e:\n\u001b[0;32m-> 1986\u001b[0m     \u001b[38;5;28;43mself\u001b[39;49m\u001b[38;5;241;43m.\u001b[39;49m\u001b[43m_handle_dbapi_exception\u001b[49m\u001b[43m(\u001b[49m\n\u001b[1;32m   1987\u001b[0m \u001b[43m        \u001b[49m\u001b[43me\u001b[49m\u001b[43m,\u001b[49m\u001b[43m \u001b[49m\u001b[43mstr_statement\u001b[49m\u001b[43m,\u001b[49m\u001b[43m \u001b[49m\u001b[43meffective_parameters\u001b[49m\u001b[43m,\u001b[49m\u001b[43m \u001b[49m\u001b[43mcursor\u001b[49m\u001b[43m,\u001b[49m\u001b[43m \u001b[49m\u001b[43mcontext\u001b[49m\n\u001b[1;32m   1988\u001b[0m \u001b[43m    \u001b[49m\u001b[43m)\u001b[49m\n\u001b[1;32m   1990\u001b[0m \u001b[38;5;28;01mreturn\u001b[39;00m result\n",
      "File \u001b[0;32m~/miniconda3/envs/py310-djapipes/lib/python3.10/site-packages/sqlalchemy/engine/base.py:2355\u001b[0m, in \u001b[0;36mConnection._handle_dbapi_exception\u001b[0;34m(self, e, statement, parameters, cursor, context, is_sub_exec)\u001b[0m\n\u001b[1;32m   2353\u001b[0m \u001b[38;5;28;01melif\u001b[39;00m should_wrap:\n\u001b[1;32m   2354\u001b[0m     \u001b[38;5;28;01massert\u001b[39;00m sqlalchemy_exception \u001b[38;5;129;01mis\u001b[39;00m \u001b[38;5;129;01mnot\u001b[39;00m \u001b[38;5;28;01mNone\u001b[39;00m\n\u001b[0;32m-> 2355\u001b[0m     \u001b[38;5;28;01mraise\u001b[39;00m sqlalchemy_exception\u001b[38;5;241m.\u001b[39mwith_traceback(exc_info[\u001b[38;5;241m2\u001b[39m]) \u001b[38;5;28;01mfrom\u001b[39;00m \u001b[38;5;21;01me\u001b[39;00m\n\u001b[1;32m   2356\u001b[0m \u001b[38;5;28;01melse\u001b[39;00m:\n\u001b[1;32m   2357\u001b[0m     \u001b[38;5;28;01massert\u001b[39;00m exc_info[\u001b[38;5;241m1\u001b[39m] \u001b[38;5;129;01mis\u001b[39;00m \u001b[38;5;129;01mnot\u001b[39;00m \u001b[38;5;28;01mNone\u001b[39;00m\n",
      "File \u001b[0;32m~/miniconda3/envs/py310-djapipes/lib/python3.10/site-packages/sqlalchemy/engine/base.py:1967\u001b[0m, in \u001b[0;36mConnection._exec_single_context\u001b[0;34m(self, dialect, context, statement, parameters)\u001b[0m\n\u001b[1;32m   1965\u001b[0m                 \u001b[38;5;28;01mbreak\u001b[39;00m\n\u001b[1;32m   1966\u001b[0m     \u001b[38;5;28;01mif\u001b[39;00m \u001b[38;5;129;01mnot\u001b[39;00m evt_handled:\n\u001b[0;32m-> 1967\u001b[0m         \u001b[38;5;28;43mself\u001b[39;49m\u001b[38;5;241;43m.\u001b[39;49m\u001b[43mdialect\u001b[49m\u001b[38;5;241;43m.\u001b[39;49m\u001b[43mdo_execute\u001b[49m\u001b[43m(\u001b[49m\n\u001b[1;32m   1968\u001b[0m \u001b[43m            \u001b[49m\u001b[43mcursor\u001b[49m\u001b[43m,\u001b[49m\u001b[43m \u001b[49m\u001b[43mstr_statement\u001b[49m\u001b[43m,\u001b[49m\u001b[43m \u001b[49m\u001b[43meffective_parameters\u001b[49m\u001b[43m,\u001b[49m\u001b[43m \u001b[49m\u001b[43mcontext\u001b[49m\n\u001b[1;32m   1969\u001b[0m \u001b[43m        \u001b[49m\u001b[43m)\u001b[49m\n\u001b[1;32m   1971\u001b[0m \u001b[38;5;28;01mif\u001b[39;00m \u001b[38;5;28mself\u001b[39m\u001b[38;5;241m.\u001b[39m_has_events \u001b[38;5;129;01mor\u001b[39;00m \u001b[38;5;28mself\u001b[39m\u001b[38;5;241m.\u001b[39mengine\u001b[38;5;241m.\u001b[39m_has_events:\n\u001b[1;32m   1972\u001b[0m     \u001b[38;5;28mself\u001b[39m\u001b[38;5;241m.\u001b[39mdispatch\u001b[38;5;241m.\u001b[39mafter_cursor_execute(\n\u001b[1;32m   1973\u001b[0m         \u001b[38;5;28mself\u001b[39m,\n\u001b[1;32m   1974\u001b[0m         cursor,\n\u001b[0;32m   (...)\u001b[0m\n\u001b[1;32m   1978\u001b[0m         context\u001b[38;5;241m.\u001b[39mexecutemany,\n\u001b[1;32m   1979\u001b[0m     )\n",
      "File \u001b[0;32m~/miniconda3/envs/py310-djapipes/lib/python3.10/site-packages/sqlalchemy/engine/default.py:941\u001b[0m, in \u001b[0;36mDefaultDialect.do_execute\u001b[0;34m(self, cursor, statement, parameters, context)\u001b[0m\n\u001b[1;32m    940\u001b[0m \u001b[38;5;28;01mdef\u001b[39;00m \u001b[38;5;21mdo_execute\u001b[39m(\u001b[38;5;28mself\u001b[39m, cursor, statement, parameters, context\u001b[38;5;241m=\u001b[39m\u001b[38;5;28;01mNone\u001b[39;00m):\n\u001b[0;32m--> 941\u001b[0m     \u001b[43mcursor\u001b[49m\u001b[38;5;241;43m.\u001b[39;49m\u001b[43mexecute\u001b[49m\u001b[43m(\u001b[49m\u001b[43mstatement\u001b[49m\u001b[43m,\u001b[49m\u001b[43m \u001b[49m\u001b[43mparameters\u001b[49m\u001b[43m)\u001b[49m\n",
      "\u001b[0;31mProgrammingError\u001b[0m: (psycopg2.errors.SyntaxError) syntax error at or near \"WHERE\"\nLINE 6:         WHERE\n                ^\n\n[SQL: \n        UPDATE nirspec_bagpipes\n        SET\n            status = 2,\n            ctime = 1734397969.853627,\n        WHERE\n            file_spec = 'rubies-uds43-v3_prism-clear_4233_31823.spec.fits'\n        ]\n(Background on this error at: https://sqlalche.me/e/20/f405)"
     ]
    }
   ],
   "source": [
    "row = run_one()"
   ]
  },
  {
   "cell_type": "code",
   "execution_count": 98,
   "id": "de00a33e-af23-41b8-8866-d0f9bca09394",
   "metadata": {},
   "outputs": [
    {
     "data": {
      "text/html": [
       "<div><i>GTable length=2</i>\n",
       "<table id=\"table21715827056\" class=\"table-striped table-bordered table-condensed\">\n",
       "<thead><tr><th>file_spec</th><th>sfh</th><th>n_age_bins</th><th>scale_disp</th><th>dust_type</th><th>use_msa_resamp</th><th>fit_agn</th><th>fit_dla</th><th>fit_mlpoly</th><th>status</th><th>ctime</th></tr></thead>\n",
       "<thead><tr><th>str48</th><th>str10</th><th>int64</th><th>float64</th><th>str5</th><th>bool</th><th>bool</th><th>bool</th><th>bool</th><th>int64</th><th>float64</th></tr></thead>\n",
       "<tr><td>rubies-egs61-v3_prism-clear_4233_42328.spec.fits</td><td>continuity</td><td>10</td><td>1.3</td><td>kriek</td><td>False</td><td>False</td><td>False</td><td>False</td><td>70</td><td>1734393587.8455942</td></tr>\n",
       "<tr><td>rubies-uds43-v3_prism-clear_4233_31823.spec.fits</td><td>continuity</td><td>10</td><td>1.3</td><td>kriek</td><td>False</td><td>False</td><td>False</td><td>False</td><td>2</td><td>1734397969.853627</td></tr>\n",
       "</table></div>"
      ],
      "text/plain": [
       "<GTable length=2>\n",
       "                   file_spec                     ...       ctime       \n",
       "                     str48                       ...      float64      \n",
       "------------------------------------------------ ... ------------------\n",
       "rubies-egs61-v3_prism-clear_4233_42328.spec.fits ... 1734393587.8455942\n",
       "rubies-uds43-v3_prism-clear_4233_31823.spec.fits ...  1734397969.853627"
      ]
     },
     "execution_count": 98,
     "metadata": {},
     "output_type": "execute_result"
    }
   ],
   "source": [
    "# Status changed to 2\n",
    "db.SQL(\"select * from nirspec_bagpipes\")"
   ]
  },
  {
   "cell_type": "code",
   "execution_count": 99,
   "id": "0bd1b1d5-eda2-4d08-88f7-314f312a0a30",
   "metadata": {},
   "outputs": [
    {
     "data": {
      "text/html": [
       "<div><i>GTable length=2</i>\n",
       "<table id=\"table21723772720\" class=\"table-striped table-bordered table-condensed\">\n",
       "<thead><tr><th>file_spec</th><th>file_phot</th><th>file_zout</th><th>id_phot</th><th>dr</th><th>filt_num</th><th>calib_0_16</th><th>calib_0_50</th><th>calib_0_84</th><th>calib_1_16</th><th>calib_1_50</th><th>calib_1_84</th><th>calib_2_16</th><th>calib_2_50</th><th>calib_2_84</th><th>continuity_dsfr1_16</th><th>continuity_dsfr1_50</th><th>continuity_dsfr1_84</th><th>continuity_dsfr2_16</th><th>continuity_dsfr2_50</th><th>continuity_dsfr2_84</th><th>continuity_dsfr3_16</th><th>continuity_dsfr3_50</th><th>continuity_dsfr3_84</th><th>continuity_dsfr4_16</th><th>continuity_dsfr4_50</th><th>continuity_dsfr4_84</th><th>continuity_dsfr5_16</th><th>continuity_dsfr5_50</th><th>continuity_dsfr5_84</th><th>continuity_dsfr6_16</th><th>continuity_dsfr6_50</th><th>continuity_dsfr6_84</th><th>continuity_dsfr7_16</th><th>continuity_dsfr7_50</th><th>continuity_dsfr7_84</th><th>continuity_dsfr8_16</th><th>continuity_dsfr8_50</th><th>continuity_dsfr8_84</th><th>continuity_massformed_16</th><th>continuity_massformed_50</th><th>continuity_massformed_84</th><th>continuity_metallicity_16</th><th>continuity_metallicity_50</th><th>continuity_metallicity_84</th><th>dust_Av_16</th><th>dust_Av_50</th><th>dust_Av_84</th><th>nebular_logU_16</th><th>nebular_logU_50</th><th>nebular_logU_84</th><th>noise_scaling_16</th><th>noise_scaling_50</th><th>noise_scaling_84</th><th>redshift_16</th><th>redshift_50</th><th>redshift_84</th><th>stellar_mass_16</th><th>stellar_mass_50</th><th>stellar_mass_84</th><th>formed_mass_16</th><th>formed_mass_50</th><th>formed_mass_84</th><th>sfr_16</th><th>sfr_50</th><th>sfr_84</th><th>ssfr_16</th><th>ssfr_50</th><th>ssfr_84</th><th>nsfr_16</th><th>nsfr_50</th><th>nsfr_84</th><th>mass_weighted_age_16</th><th>mass_weighted_age_50</th><th>mass_weighted_age_84</th><th>tform_16</th><th>tform_50</th><th>tform_84</th><th>tquench_16</th><th>tquench_50</th><th>tquench_84</th><th>mass_weighted_zmet_16</th><th>mass_weighted_zmet_50</th><th>mass_weighted_zmet_84</th><th>sfh_16</th><th>sfh_50</th><th>sfh_84</th><th>chisq_phot_16</th><th>chisq_phot_50</th><th>chisq_phot_84</th><th>restU_16</th><th>restU_50</th><th>restU_84</th><th>restV_16</th><th>restV_50</th><th>restV_84</th><th>restJ_16</th><th>restJ_50</th><th>restJ_84</th><th>sfh</th><th>dust_type</th></tr></thead>\n",
       "<thead><tr><th>str48</th><th>str42</th><th>str49</th><th>int64</th><th>float64</th><th>int64</th><th>float64</th><th>float64</th><th>float64</th><th>float64</th><th>float64</th><th>float64</th><th>float64</th><th>float64</th><th>float64</th><th>float64</th><th>float64</th><th>float64</th><th>float64</th><th>float64</th><th>float64</th><th>float64</th><th>float64</th><th>float64</th><th>float64</th><th>float64</th><th>float64</th><th>float64</th><th>float64</th><th>float64</th><th>float64</th><th>float64</th><th>float64</th><th>float64</th><th>float64</th><th>float64</th><th>float64</th><th>float64</th><th>float64</th><th>float64</th><th>float64</th><th>float64</th><th>float64</th><th>float64</th><th>float64</th><th>float64</th><th>float64</th><th>float64</th><th>float64</th><th>float64</th><th>float64</th><th>float64</th><th>float64</th><th>float64</th><th>float64</th><th>float64</th><th>float64</th><th>float64</th><th>float64</th><th>float64</th><th>float64</th><th>float64</th><th>float64</th><th>float64</th><th>float64</th><th>float64</th><th>float64</th><th>float64</th><th>float64</th><th>float64</th><th>float64</th><th>float64</th><th>float64</th><th>float64</th><th>float64</th><th>float64</th><th>float64</th><th>float64</th><th>float64</th><th>float64</th><th>float64</th><th>float64</th><th>float64</th><th>float64</th><th>float64</th><th>float64</th><th>float64</th><th>float64</th><th>float64</th><th>float64</th><th>float64</th><th>float64</th><th>float64</th><th>float64</th><th>float64</th><th>float64</th><th>float64</th><th>float64</th><th>float64</th><th>str10</th><th>str5</th></tr></thead>\n",
       "<tr><td>rubies-egs61-v3_prism-clear_4233_42328.spec.fits</td><td>ceers-full-grizli-v7.4-fix_phot.fits</td><td>ceers-full-grizli-v7.4-fix.eazypy.zout.fits</td><td>45984</td><td>0.0025837352</td><td>7</td><td>1.0893284</td><td>1.1005278</td><td>1.112314</td><td>0.13313806</td><td>0.1495488</td><td>0.16703269</td><td>-0.02429107</td><td>-0.014711174</td><td>-0.004652707</td><td>1.5485095</td><td>2.3482134</td><td>3.9384093</td><td>-5.7592254</td><td>-2.8553116</td><td>-1.5897121</td><td>-2.4677985</td><td>-0.8909998</td><td>0.076552935</td><td>-1.9088826</td><td>-0.67037135</td><td>0.3234663</td><td>-2.110811</td><td>-0.5237588</td><td>0.43503088</td><td>-1.7238318</td><td>-0.291716</td><td>0.7565929</td><td>-1.5724771</td><td>-0.35703704</td><td>0.62429434</td><td>-1.3616204</td><td>-0.20204504</td><td>0.866415</td><td>10.594711</td><td>10.603731</td><td>10.613332</td><td>1.9670614</td><td>2.1080544</td><td>2.2301939</td><td>0.26708212</td><td>0.30920303</td><td>0.35565826</td><td>-3.461587</td><td>-2.4680204</td><td>-1.4733613</td><td>1.6415218</td><td>1.701191</td><td>1.762709</td><td>2.6796997</td><td>2.682384</td><td>2.6859329</td><td>10.357736</td><td>10.36713</td><td>10.376733</td><td>10.594711</td><td>10.603731</td><td>10.613332</td><td>2.5779448e-08</td><td>3.0501995e-05</td><td>0.003697199</td><td>-17.954588</td><td>-14.884774</td><td>-12.790637</td><td>-8.811811</td><td>-5.742731</td><td>-3.6489553</td><td>1.2082012</td><td>1.2133465</td><td>1.2332609</td><td>1.1551006</td><td>1.173272</td><td>1.1804646</td><td>1.4934564</td><td>1.4971656</td><td>1.5013014</td><td>1.9611988</td><td>2.103084</td><td>2.226434</td><td>0.0</td><td>1.0006521e-05</td><td>0.03199979</td><td>13.320983</td><td>14.231694</td><td>15.94693</td><td>4.9259133</td><td>4.946481</td><td>4.9677243</td><td>2.976621</td><td>2.9893553</td><td>3.0018532</td><td>1.7955647</td><td>1.8092059</td><td>1.8264674</td><td>continuity</td><td>kriek</td></tr>\n",
       "<tr><td>rubies-uds43-v3_prism-clear_4233_31823.spec.fits</td><td>primer-uds-south-grizli-v7.2-fix_phot.fits</td><td>primer-uds-south-grizli-v7.2-fix.eazypy.zout.fits</td><td>31823</td><td>1.0683849e-08</td><td>7</td><td>1.2750163</td><td>1.2873616</td><td>1.3006295</td><td>-0.024277417</td><td>-0.0069819586</td><td>0.008741275</td><td>-0.016894482</td><td>-0.009070048</td><td>-5.0981787e-05</td><td>1.53419</td><td>2.2769182</td><td>4.101171</td><td>-6.347813</td><td>-3.683133</td><td>-2.164358</td><td>-2.155918</td><td>-0.7631303</td><td>0.20011736</td><td>-2.0920408</td><td>-0.5782702</td><td>0.3504977</td><td>-1.7171866</td><td>-0.4967887</td><td>0.526128</td><td>-1.7692782</td><td>-0.411543</td><td>0.6400344</td><td>-1.7593238</td><td>-0.30391493</td><td>0.7695858</td><td>-1.2967153</td><td>-0.08319812</td><td>0.9829348</td><td>11.100544</td><td>11.108019</td><td>11.114423</td><td>1.823329</td><td>1.918836</td><td>2.0125654</td><td>0.500041</td><td>0.53605044</td><td>0.5629376</td><td>-3.5010028</td><td>-2.5242841</td><td>-1.4703611</td><td>1.9587781</td><td>2.0237625</td><td>2.0929391</td><td>2.6001453</td><td>2.6020393</td><td>2.6041963</td><td>10.86431</td><td>10.872096</td><td>10.878323</td><td>11.100544</td><td>11.108019</td><td>11.114423</td><td>2.7328499e-08</td><td>4.2361982e-05</td><td>0.0053142607</td><td>-18.440039</td><td>-15.242527</td><td>-13.151957</td><td>-9.286204</td><td>-6.087121</td><td>-3.9949243</td><td>1.2118473</td><td>1.2161918</td><td>1.2402385</td><td>1.2269682</td><td>1.2498184</td><td>1.2558264</td><td>1.5733256</td><td>1.5755416</td><td>1.5774307</td><td>1.8170892</td><td>1.912741</td><td>2.0069196</td><td>0.0</td><td>1.3401974e-05</td><td>0.047588248</td><td>10.566063</td><td>12.500886</td><td>15.903134</td><td>3.8637443</td><td>3.8844194</td><td>3.905697</td><td>1.8094065</td><td>1.8210313</td><td>1.832904</td><td>0.50435734</td><td>0.51576585</td><td>0.52664465</td><td>continuity</td><td>kriek</td></tr>\n",
       "</table></div>"
      ],
      "text/plain": [
       "<GTable length=2>\n",
       "                   file_spec                     ... dust_type\n",
       "                     str48                       ...    str5  \n",
       "------------------------------------------------ ... ---------\n",
       "rubies-egs61-v3_prism-clear_4233_42328.spec.fits ...     kriek\n",
       "rubies-uds43-v3_prism-clear_4233_31823.spec.fits ...     kriek"
      ]
     },
     "execution_count": 99,
     "metadata": {},
     "output_type": "execute_result"
    }
   ],
   "source": [
    "# Results are in the posterior table\n",
    "db.SQL(\"select * from nirspec_bagpipes_posterior\")"
   ]
  },
  {
   "cell_type": "code",
   "execution_count": null,
   "id": "70cc5bc1-e399-4f2c-b87f-f195c790c8cb",
   "metadata": {},
   "outputs": [],
   "source": []
  }
 ],
 "metadata": {
  "kernelspec": {
   "display_name": "Python 3 (ipykernel)",
   "language": "python",
   "name": "python3"
  },
  "language_info": {
   "codemirror_mode": {
    "name": "ipython",
    "version": 3
   },
   "file_extension": ".py",
   "mimetype": "text/x-python",
   "name": "python",
   "nbconvert_exporter": "python",
   "pygments_lexer": "ipython3",
   "version": "3.10.16"
  }
 },
 "nbformat": 4,
 "nbformat_minor": 5
}
