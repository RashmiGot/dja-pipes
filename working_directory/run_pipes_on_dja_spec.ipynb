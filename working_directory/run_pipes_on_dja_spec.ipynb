{
 "cells": [
  {
   "cell_type": "code",
   "execution_count": null,
   "id": "b5ec6a74",
   "metadata": {},
   "outputs": [],
   "source": []
  },
  {
   "cell_type": "code",
   "execution_count": null,
   "id": "98074ab8",
   "metadata": {},
   "outputs": [
    {
     "name": "stdout",
     "output_type": "stream",
     "text": [
      "19685 glazebrook-cos-obs3-v3_prism-clear_2565_19685\n",
      "423 True\n",
      "\n",
      "Bagpipes: fitting object 19685\n",
      "\n"
     ]
    }
   ],
   "source": [
    "import djapipes\n",
    "\n",
    "djapipes.run.run_pipes_on_dja_spec(\"glazebrook-cos-obs3-v3_prism-clear_2565_19685\")"
   ]
  },
  {
   "cell_type": "code",
   "execution_count": null,
   "id": "e3098083",
   "metadata": {},
   "outputs": [],
   "source": []
  }
 ],
 "metadata": {
  "kernelspec": {
   "display_name": "pipesgitconda",
   "language": "python",
   "name": "python3"
  },
  "language_info": {
   "codemirror_mode": {
    "name": "ipython",
    "version": 3
   },
   "file_extension": ".py",
   "mimetype": "text/x-python",
   "name": "python",
   "nbconvert_exporter": "python",
   "pygments_lexer": "ipython3",
   "version": "3.10.14"
  }
 },
 "nbformat": 4,
 "nbformat_minor": 5
}
