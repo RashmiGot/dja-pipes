{
 "cells": [
  {
   "cell_type": "code",
   "execution_count": null,
   "id": "b5ec6a74",
   "metadata": {},
   "outputs": [],
   "source": []
  },
  {
   "cell_type": "code",
   "execution_count": 1,
   "id": "964f41e6",
   "metadata": {},
   "outputs": [],
   "source": [
    "# defining catalogue to run\n",
    "\n",
    "from astropy.table import Table\n",
    "\n",
    "fnames = [\n",
    "\"rubies-egs61-v3_prism-clear_4233_42328\",\n",
    "\"rubies-uds32-v3_prism-clear_4233_133898\",\n",
    "\"rubies-uds1-v3_prism-clear_4233_27711\",\n",
    "\"rubies-egs52-v3_prism-clear_4233_24948\"\n",
    "]\n",
    "ids = []\n",
    "for fname in fnames:\n",
    "    ids.append(int(fname.split('_')[-1]))\n",
    "\n",
    "# catalogue of spectra from DJA\n",
    "speclist_cat = Table([ids, fnames], names=list(['id', 'fname']))\n",
    "speclist_cat.write('spec_cat_temp.fits', format='fits', overwrite=True)"
   ]
  },
  {
   "cell_type": "code",
   "execution_count": null,
   "id": "98074ab8",
   "metadata": {},
   "outputs": [
    {
     "name": "stdout",
     "output_type": "stream",
     "text": [
      "19685 glazebrook-cos-obs3-v3_prism-clear_2565_19685\n",
      "423 True\n",
      "\n",
      "Bagpipes: fitting object 19685\n",
      "\n"
     ]
    }
   ],
   "source": [
    "import djapipes\n",
    "\n",
    "djapipes.run.run_pipes_on_dja_spec(\"glazebrook-cos-obs3-v3_prism-clear_2565_19685\")"
   ]
  },
  {
   "cell_type": "code",
   "execution_count": null,
   "id": "99f951c1",
   "metadata": {},
   "outputs": [],
   "source": []
  },
  {
   "cell_type": "code",
   "execution_count": 22,
   "id": "c8cc785a",
   "metadata": {},
   "outputs": [],
   "source": [
    "# --------------------------------------------------------------\n",
    "# --------------------------------- CHECKS FOR BREAK IN SPECTRUM\n",
    "# --------------------------------------------------------------\n",
    "\n",
    "from astropy.table import Table\n",
    "import djapipes.database\n",
    "\n",
    "\n",
    "import msaexp\n",
    "\n",
    "\n",
    "def check_spec(ID, valid_threshold=400):\n",
    "    \"\"\"\n",
    "    Searches for valid flux datapoints in spectrum\n",
    "    \n",
    "    Parameters\n",
    "    ----------\n",
    "    ID : number assigned to fitting run, format=int\n",
    "\n",
    "    Returns\n",
    "    -------\n",
    "    num_valid : number of valid datapoints in spectrum, format=int\n",
    "    is_valid : True/False depending on whether spectrum has breaks, format=bool\n",
    "    \"\"\"\n",
    "\n",
    "    id = int(ID)\n",
    "\n",
    "    speclist_cat = Table.read('spec_cat_temp.csv', format='csv')\n",
    "\n",
    "    fname_spec = \"borg-0314m6712-v3_prism-clear_1747_1086.spec.fits\"\n",
    "    file_path='files/'\n",
    "\n",
    "    djapipes.database.pull_spec_from_db(fname_spec, file_path=file_path)\n",
    "\n",
    "    msaexp_spectrum = msaexp.spectrum.read_spectrum(f\"{file_path}{fname_spec}\")\n",
    "    valid = msaexp_spectrum[\"valid\"]\n",
    "\n",
    "    num_valid = sum(valid*1)\n",
    "\n",
    "    if num_valid<valid_threshold:\n",
    "        is_valid=False\n",
    "    else:\n",
    "        is_valid=True\n",
    "\n",
    "    return num_valid, is_valid"
   ]
  },
  {
   "cell_type": "code",
   "execution_count": 26,
   "id": "88e896c9",
   "metadata": {},
   "outputs": [
    {
     "data": {
      "text/plain": [
       "(183, True)"
      ]
     },
     "execution_count": 26,
     "metadata": {},
     "output_type": "execute_result"
    }
   ],
   "source": [
    "num_valid, is_valid = check_spec(0, valid_threshold=180)\n",
    "\n",
    "num_valid, is_valid"
   ]
  },
  {
   "cell_type": "code",
   "execution_count": null,
   "id": "0bdab4fd",
   "metadata": {},
   "outputs": [],
   "source": []
  },
  {
   "cell_type": "code",
   "execution_count": 4,
   "id": "fc7399ca",
   "metadata": {},
   "outputs": [],
   "source": []
  },
  {
   "cell_type": "code",
   "execution_count": null,
   "id": "6e120a49",
   "metadata": {},
   "outputs": [],
   "source": []
  },
  {
   "cell_type": "code",
   "execution_count": null,
   "id": "e3098083",
   "metadata": {},
   "outputs": [],
   "source": []
  }
 ],
 "metadata": {
  "kernelspec": {
   "display_name": "pipesgitconda",
   "language": "python",
   "name": "python3"
  },
  "language_info": {
   "codemirror_mode": {
    "name": "ipython",
    "version": 3
   },
   "file_extension": ".py",
   "mimetype": "text/x-python",
   "name": "python",
   "nbconvert_exporter": "python",
   "pygments_lexer": "ipython3",
   "version": "3.10.14"
  }
 },
 "nbformat": 4,
 "nbformat_minor": 5
}
